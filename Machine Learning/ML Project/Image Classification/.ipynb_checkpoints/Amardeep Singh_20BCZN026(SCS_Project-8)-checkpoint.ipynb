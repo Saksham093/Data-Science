{
 "cells": [
  {
   "cell_type": "markdown",
   "metadata": {},
   "source": [
    "# <font color=\"red\"><h1 align=\"center\">Project 8</h1></font>"
   ]
  },
  {
   "cell_type": "markdown",
   "metadata": {},
   "source": [
    "## Import needed Module here..."
   ]
  },
  {
   "cell_type": "code",
   "execution_count": 6,
   "metadata": {},
   "outputs": [],
   "source": [
    "import numpy as np\n",
    "import seaborn as sns\n",
    "import matplotlib.pyplot as plt\n",
    "from scipy import stats"
   ]
  },
  {
   "cell_type": "markdown",
   "metadata": {},
   "source": [
    "<font color=\"purple\"><h3>The results of tensile adhesion test conducted on an alloy specimen were analyzed. The load (in megapascals) at specimen failure is as follows.\n",
    "    \n",
    "19.8, 10.1, 15.4, 15.4, 18.5, 14.9, 7.5, 7.9, 12.7, 11.9, 15.4, 11.4, 14.1, 11.4, 17.6, 16.7, 15.8, 19.5, 8.8, 13.6, 11.9, 11.4</h3></font>"
   ]
  },
  {
   "cell_type": "markdown",
   "metadata": {},
   "source": [
    "##  Loading the Data..."
   ]
  },
  {
   "cell_type": "code",
   "execution_count": 2,
   "metadata": {},
   "outputs": [],
   "source": [
    "a = np.array([19.8, 10.1, 15.4, 15.4, 18.5, 14.9, 7.5, 7.9, 12.7, 11.9, 15.4, 11.4,\n",
    "              14.1, 11.4, 17.6, 16.7, 15.8, 19.5, 8.8, 13.6, 11.9, 11.4])"
   ]
  },
  {
   "cell_type": "markdown",
   "metadata": {},
   "source": [
    "## Calculating mean and standard deviation with degree of freedom n-1"
   ]
  },
  {
   "cell_type": "code",
   "execution_count": 2,
   "metadata": {},
   "outputs": [
    {
     "name": "stdout",
     "output_type": "stream",
     "text": [
      "Sample Size is:  22\n",
      "Mean of the Sample is:  13.713636363636363\n",
      "Standard deviation of the Sample is:  3.553575724942474\n"
     ]
    }
   ],
   "source": [
    "n = len(a)\n",
    "\n",
    "mean = np.mean(a)\n",
    "\n",
    "std = np.std(a, ddof=1)\n",
    "\n",
    "print(\"Sample Size is: \", n)\n",
    "\n",
    "print(\"Mean of the Sample is: \", mean)\n",
    "\n",
    "print(\"Standard deviation of the Sample is: \", std)"
   ]
  },
  {
   "cell_type": "markdown",
   "metadata": {},
   "source": [
    "## Checking if the data is normally distributed"
   ]
  },
  {
   "cell_type": "markdown",
   "metadata": {},
   "source": [
    "<font color=\"purple\"><h2>1. Using Boxplot</h2></font> "
   ]
  },
  {
   "cell_type": "code",
   "execution_count": 5,
   "metadata": {},
   "outputs": [
    {
     "data": {
      "image/png": "[encoded data removed]",
      "text/plain": [
       "<Figure size 432x288 with 1 Axes>"
      ]
     },
     "metadata": {
      "needs_background": "light"
     },
     "output_type": "display_data"
    }
   ],
   "source": [
    "ax = sns.boxplot(x = a)\n",
    "plt.show()"
   ]
  },
  {
   "cell_type": "markdown",
   "metadata": {},
   "source": [
    "Box plot shows that there are no outliers and median is approximately towards the middle of the IQR. Eventhough the data is slightly left skewed. We can say that the data is normally distributed from the boxplot in the figure above."
   ]
  },
  {
   "cell_type": "markdown",
   "metadata": {},
   "source": [
    "<font color=\"purple\"><h2>2. Using Normal Probability Plot (Q-Q Plot)</h2></font>"
   ]
  },
  {
   "cell_type": "code",
   "execution_count": 5,
   "metadata": {},
   "outputs": [
    {
     "data": {
      "text/plain": [
       "((array([-1.86607372, -1.43791453, -1.17527742, -0.97550628, -0.80861848,\n",
       "         -0.66170536, -0.52787584, -0.40291473, -0.28396605, -0.16891711,\n",
       "         -0.05606845,  0.05606845,  0.16891711,  0.28396605,  0.40291473,\n",
       "          0.52787584,  0.66170536,  0.80861848,  0.97550628,  1.17527742,\n",
       "          1.43791453,  1.86607372]),\n",
       "  array([ 7.5,  7.9,  8.8, 10.1, 11.4, 11.4, 11.4, 11.9, 11.9, 12.7, 13.6,\n",
       "         14.1, 14.9, 15.4, 15.4, 15.4, 15.8, 16.7, 17.6, 18.5, 19.5, 19.8])),\n",
       " (3.697697405991662, 13.713636363636363, 0.9912111231479539))"
      ]
     },
     "execution_count": 5,
     "metadata": {},
     "output_type": "execute_result"
    },
    {
     "data": {
      "image/png": "[encoded data removed]",
      "text/plain": [
       "<Figure size 432x288 with 1 Axes>"
      ]
     },
     "metadata": {
      "needs_background": "light"
     },
     "output_type": "display_data"
    }
   ],
   "source": [
    "stats.probplot(a, plot = plt)"
   ]
  },
  {
   "cell_type": "markdown",
   "metadata": {},
   "source": [
    "The box plot and normal probability plot support our assumption that the population is normally distributed."
   ]
  },
  {
   "cell_type": "markdown",
   "metadata": {},
   "source": [
    "## Checking the values of n>10K(squared)(subscript = 3) and n>10K(subscript = 4)"
   ]
  },
  {
   "cell_type": "code",
   "execution_count": 12,
   "metadata": {},
   "outputs": [
    {
     "name": "stdout",
     "output_type": "stream",
     "text": [
      "The skewness is:  0.0019825338012995136\n",
      "The kurtosis is:  8.520095618892656\n"
     ]
    }
   ],
   "source": [
    "x = 10*np.square(stats.skew(a))\n",
    "\n",
    "print(\"The skewness is: \", x)\n",
    "\n",
    "y = 10*np.absolute(stats.kurtosis(a))\n",
    "\n",
    "print(\"The kurtosis is: \", y)"
   ]
  },
  {
   "cell_type": "code",
   "execution_count": 8,
   "metadata": {},
   "outputs": [
    {
     "name": "stdout",
     "output_type": "stream",
     "text": [
      "In this case n = 22. So n>10K(squared)(subscript = 3) and n>10K(subscript = 4) and hence the criteria is satisfied.\n"
     ]
    }
   ],
   "source": [
    "print(\"In this case n = 22. So n>10K(squared)(subscript = 3) and n>10K(subscript = 4) and hence the criteria is satisfied.\")"
   ]
  },
  {
   "cell_type": "markdown",
   "metadata": {},
   "source": [
    "## Calculating a  Confidence Interval on mean"
   ]
  },
  {
   "cell_type": "code",
   "execution_count": 9,
   "metadata": {},
   "outputs": [
    {
     "data": {
      "text/plain": [
       "2.079613844727662"
      ]
     },
     "execution_count": 9,
     "metadata": {},
     "output_type": "execute_result"
    }
   ],
   "source": [
    "stats.t.ppf(1.95/2, 21)"
   ]
  },
  {
   "cell_type": "markdown",
   "metadata": {},
   "source": [
    "## The resulting CI is"
   ]
  },
  {
   "cell_type": "code",
   "execution_count": 14,
   "metadata": {},
   "outputs": [
    {
     "data": {
      "text/plain": [
       "(12.138069152904343, 15.289203574368383)"
      ]
     },
     "execution_count": 14,
     "metadata": {},
     "output_type": "execute_result"
    }
   ],
   "source": [
    "stats.t.interval(0.95, n-1, loc = mean, scale = stats.sem(a))"
   ]
  },
  {
   "cell_type": "code",
   "execution_count": 11,
   "metadata": {},
   "outputs": [
    {
     "name": "stdout",
     "output_type": "stream",
     "text": [
      "The CI is fairly wide because there is a lot of variability in the data.\n"
     ]
    }
   ],
   "source": [
    "print(\"The CI is fairly wide because there is a lot of variability in the data.\")"
   ]
  }
 ],
 "metadata": {
  "kernelspec": {
   "display_name": "Python 3",
   "language": "python",
   "name": "python3"
  },
  "language_info": {
   "codemirror_mode": {
    "name": "ipython",
    "version": 3
   },
   "file_extension": ".py",
   "mimetype": "text/x-python",
   "name": "python",
   "nbconvert_exporter": "python",
   "pygments_lexer": "ipython3",
   "version": "3.8.5"
  }
 },
 "nbformat": 4,
 "nbformat_minor": 5
}
