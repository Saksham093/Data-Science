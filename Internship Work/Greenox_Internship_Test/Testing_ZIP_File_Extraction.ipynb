{
  "nbformat": 4,
  "nbformat_minor": 0,
  "metadata": {
    "colab": {
      "provenance": []
    },
    "kernelspec": {
      "name": "python3",
      "display_name": "Python 3"
    },
    "language_info": {
      "name": "python"
    }
  },
  "cells": [
    {
      "cell_type": "code",
      "source": [
        "# Extrating ZIP file ...\n",
        "# ~ M.SAKSHAM -> https://github.com/saksham093"
      ],
      "metadata": {
        "id": "th-nyWIs0EKK"
      },
      "execution_count": null,
      "outputs": []
    },
    {
      "cell_type": "code",
      "source": [
        " # Mount Drive...\n",
        "\n",
        "from google.colab import drive\n",
        "drive.mount('/content/gdrive')"
      ],
      "metadata": {
        "id": "THihTNoVXDN7"
      },
      "execution_count": null,
      "outputs": []
    },
    {
      "cell_type": "code",
      "execution_count": null,
      "metadata": {
        "id": "ZdbWzF-_SE58"
      },
      "outputs": [],
      "source": [
        "# import...\n",
        "\n",
        "from zipfile import ZipFile"
      ]
    },
    {
      "cell_type": "code",
      "source": [
        "# define the paths...\n",
        "\n",
        "with ZipFile('/content/drive/MyDrive/Greenox/mainbottledataset.zip', 'r') as zipObj:  # path of folder or file...\n",
        "    zipObj.extractall('/content/drive/MyDrive/Greenox/Bottle_Data/')  # path to save file or folder...\n",
        "\n",
        "print('Done...')"
      ],
      "metadata": {
        "id": "7ZqzaEBdSnmE"
      },
      "execution_count": null,
      "outputs": []
    },
    {
      "cell_type": "code",
      "source": [
        "# For Testing...\n",
        "\n",
        "!ls \"/content/drive/MyDrive/Greenox/\""
      ],
      "metadata": {
        "id": "0rvtkm0AW7Am"
      },
      "execution_count": null,
      "outputs": []
    }
  ]
}