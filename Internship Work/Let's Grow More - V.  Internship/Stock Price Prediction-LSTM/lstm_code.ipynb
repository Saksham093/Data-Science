{
 "cells": [
  {
   "cell_type": "markdown",
   "metadata": {},
   "source": [
    "# <font color=\"red\"><h1 align=\"center\"><b>Stock Market Prediction And Forecasting Using Stacked LSTM</b></h1></font>"
   ]
  },
  {
   "cell_type": "code",
   "execution_count": 1,
   "metadata": {},
   "outputs": [
    {
     "data": {
      "text/plain": [
       "'2.12.0'"
      ]
     },
     "execution_count": 1,
     "metadata": {},
     "output_type": "execute_result"
    }
   ],
   "source": [
    "# Importing the libraries\n",
    "import numpy as np\n",
    "import pandas as pd\n",
    "import datetime\n",
    "import matplotlib.pyplot as plt\n",
    "\n",
    "import math\n",
    "from sklearn.preprocessing import MinMaxScaler\n",
    "from sklearn.metrics import mean_squared_error\n",
    "\n",
    "import tensorflow as tf\n",
    "tf.__version__"
   ]
  },
  {
   "cell_type": "code",
   "execution_count": 2,
   "metadata": {},
   "outputs": [],
   "source": [
    "df = pd.read_csv('stock.csv', index_col=\"Date\", parse_dates=True)"
   ]
  },
  {
   "cell_type": "code",
   "execution_count": 3,
   "metadata": {},
   "outputs": [
    {
     "data": {
      "text/html": [
       "<div>\n",
       "<style scoped>\n",
       "    .dataframe tbody tr th:only-of-type {\n",
       "        vertical-align: middle;\n",
       "    }\n",
       "\n",
       "    .dataframe tbody tr th {\n",
       "        vertical-align: top;\n",
       "    }\n",
       "\n",
       "    .dataframe thead th {\n",
       "        text-align: right;\n",
       "    }\n",
       "</style>\n",
       "<table border=\"1\" class=\"dataframe\">\n",
       "  <thead>\n",
       "    <tr style=\"text-align: right;\">\n",
       "      <th></th>\n",
       "      <th>Open</th>\n",
       "      <th>High</th>\n",
       "      <th>Low</th>\n",
       "      <th>Last</th>\n",
       "      <th>Close</th>\n",
       "      <th>Total Trade Quantity</th>\n",
       "      <th>Turnover (Lacs)</th>\n",
       "    </tr>\n",
       "    <tr>\n",
       "      <th>Date</th>\n",
       "      <th></th>\n",
       "      <th></th>\n",
       "      <th></th>\n",
       "      <th></th>\n",
       "      <th></th>\n",
       "      <th></th>\n",
       "      <th></th>\n",
       "    </tr>\n",
       "  </thead>\n",
       "  <tbody>\n",
       "    <tr>\n",
       "      <th>2018-09-28</th>\n",
       "      <td>234.05</td>\n",
       "      <td>235.95</td>\n",
       "      <td>230.20</td>\n",
       "      <td>233.50</td>\n",
       "      <td>233.75</td>\n",
       "      <td>3069914</td>\n",
       "      <td>7162.35</td>\n",
       "    </tr>\n",
       "    <tr>\n",
       "      <th>2018-09-27</th>\n",
       "      <td>234.55</td>\n",
       "      <td>236.80</td>\n",
       "      <td>231.10</td>\n",
       "      <td>233.80</td>\n",
       "      <td>233.25</td>\n",
       "      <td>5082859</td>\n",
       "      <td>11859.95</td>\n",
       "    </tr>\n",
       "    <tr>\n",
       "      <th>2018-09-26</th>\n",
       "      <td>240.00</td>\n",
       "      <td>240.00</td>\n",
       "      <td>232.50</td>\n",
       "      <td>235.00</td>\n",
       "      <td>234.25</td>\n",
       "      <td>2240909</td>\n",
       "      <td>5248.60</td>\n",
       "    </tr>\n",
       "    <tr>\n",
       "      <th>2018-09-25</th>\n",
       "      <td>233.30</td>\n",
       "      <td>236.75</td>\n",
       "      <td>232.00</td>\n",
       "      <td>236.25</td>\n",
       "      <td>236.10</td>\n",
       "      <td>2349368</td>\n",
       "      <td>5503.90</td>\n",
       "    </tr>\n",
       "    <tr>\n",
       "      <th>2018-09-24</th>\n",
       "      <td>233.55</td>\n",
       "      <td>239.20</td>\n",
       "      <td>230.75</td>\n",
       "      <td>234.00</td>\n",
       "      <td>233.30</td>\n",
       "      <td>3423509</td>\n",
       "      <td>7999.55</td>\n",
       "    </tr>\n",
       "  </tbody>\n",
       "</table>\n",
       "</div>"
      ],
      "text/plain": [
       "              Open    High     Low    Last   Close  Total Trade Quantity  \\\n",
       "Date                                                                       \n",
       "2018-09-28  234.05  235.95  230.20  233.50  233.75               3069914   \n",
       "2018-09-27  234.55  236.80  231.10  233.80  233.25               5082859   \n",
       "2018-09-26  240.00  240.00  232.50  235.00  234.25               2240909   \n",
       "2018-09-25  233.30  236.75  232.00  236.25  236.10               2349368   \n",
       "2018-09-24  233.55  239.20  230.75  234.00  233.30               3423509   \n",
       "\n",
       "            Turnover (Lacs)  \n",
       "Date                         \n",
       "2018-09-28          7162.35  \n",
       "2018-09-27         11859.95  \n",
       "2018-09-26          5248.60  \n",
       "2018-09-25          5503.90  \n",
       "2018-09-24          7999.55  "
      ]
     },
     "execution_count": 3,
     "metadata": {},
     "output_type": "execute_result"
    }
   ],
   "source": [
    "df.head()"
   ]
  },
  {
   "cell_type": "code",
   "execution_count": 4,
   "metadata": {},
   "outputs": [
    {
     "data": {
      "text/html": [
       "<div>\n",
       "<style scoped>\n",
       "    .dataframe tbody tr th:only-of-type {\n",
       "        vertical-align: middle;\n",
       "    }\n",
       "\n",
       "    .dataframe tbody tr th {\n",
       "        vertical-align: top;\n",
       "    }\n",
       "\n",
       "    .dataframe thead th {\n",
       "        text-align: right;\n",
       "    }\n",
       "</style>\n",
       "<table border=\"1\" class=\"dataframe\">\n",
       "  <thead>\n",
       "    <tr style=\"text-align: right;\">\n",
       "      <th></th>\n",
       "      <th>Open</th>\n",
       "      <th>High</th>\n",
       "      <th>Low</th>\n",
       "      <th>Last</th>\n",
       "      <th>Close</th>\n",
       "      <th>Total Trade Quantity</th>\n",
       "      <th>Turnover (Lacs)</th>\n",
       "    </tr>\n",
       "    <tr>\n",
       "      <th>Date</th>\n",
       "      <th></th>\n",
       "      <th></th>\n",
       "      <th></th>\n",
       "      <th></th>\n",
       "      <th></th>\n",
       "      <th></th>\n",
       "      <th></th>\n",
       "    </tr>\n",
       "  </thead>\n",
       "  <tbody>\n",
       "    <tr>\n",
       "      <th>2010-07-27</th>\n",
       "      <td>117.6</td>\n",
       "      <td>119.50</td>\n",
       "      <td>112.00</td>\n",
       "      <td>118.80</td>\n",
       "      <td>118.65</td>\n",
       "      <td>586100</td>\n",
       "      <td>694.98</td>\n",
       "    </tr>\n",
       "    <tr>\n",
       "      <th>2010-07-26</th>\n",
       "      <td>120.1</td>\n",
       "      <td>121.00</td>\n",
       "      <td>117.10</td>\n",
       "      <td>117.10</td>\n",
       "      <td>117.60</td>\n",
       "      <td>658440</td>\n",
       "      <td>780.01</td>\n",
       "    </tr>\n",
       "    <tr>\n",
       "      <th>2010-07-23</th>\n",
       "      <td>121.8</td>\n",
       "      <td>121.95</td>\n",
       "      <td>120.25</td>\n",
       "      <td>120.35</td>\n",
       "      <td>120.65</td>\n",
       "      <td>281312</td>\n",
       "      <td>340.31</td>\n",
       "    </tr>\n",
       "    <tr>\n",
       "      <th>2010-07-22</th>\n",
       "      <td>120.3</td>\n",
       "      <td>122.00</td>\n",
       "      <td>120.25</td>\n",
       "      <td>120.75</td>\n",
       "      <td>120.90</td>\n",
       "      <td>293312</td>\n",
       "      <td>355.17</td>\n",
       "    </tr>\n",
       "    <tr>\n",
       "      <th>2010-07-21</th>\n",
       "      <td>122.1</td>\n",
       "      <td>123.00</td>\n",
       "      <td>121.05</td>\n",
       "      <td>121.10</td>\n",
       "      <td>121.55</td>\n",
       "      <td>658666</td>\n",
       "      <td>803.56</td>\n",
       "    </tr>\n",
       "  </tbody>\n",
       "</table>\n",
       "</div>"
      ],
      "text/plain": [
       "             Open    High     Low    Last   Close  Total Trade Quantity  \\\n",
       "Date                                                                      \n",
       "2010-07-27  117.6  119.50  112.00  118.80  118.65                586100   \n",
       "2010-07-26  120.1  121.00  117.10  117.10  117.60                658440   \n",
       "2010-07-23  121.8  121.95  120.25  120.35  120.65                281312   \n",
       "2010-07-22  120.3  122.00  120.25  120.75  120.90                293312   \n",
       "2010-07-21  122.1  123.00  121.05  121.10  121.55                658666   \n",
       "\n",
       "            Turnover (Lacs)  \n",
       "Date                         \n",
       "2010-07-27           694.98  \n",
       "2010-07-26           780.01  \n",
       "2010-07-23           340.31  \n",
       "2010-07-22           355.17  \n",
       "2010-07-21           803.56  "
      ]
     },
     "execution_count": 4,
     "metadata": {},
     "output_type": "execute_result"
    }
   ],
   "source": [
    "df.tail()"
   ]
  },
  {
   "cell_type": "code",
   "execution_count": 5,
   "metadata": {},
   "outputs": [
    {
     "data": {
      "text/plain": [
       "Open                    False\n",
       "High                    False\n",
       "Low                     False\n",
       "Last                    False\n",
       "Close                   False\n",
       "Total Trade Quantity    False\n",
       "Turnover (Lacs)         False\n",
       "dtype: bool"
      ]
     },
     "execution_count": 5,
     "metadata": {},
     "output_type": "execute_result"
    }
   ],
   "source": [
    "df.isna().any()"
   ]
  },
  {
   "cell_type": "code",
   "execution_count": 6,
   "metadata": {},
   "outputs": [
    {
     "name": "stdout",
     "output_type": "stream",
     "text": [
      "<class 'pandas.core.frame.DataFrame'>\n",
      "DatetimeIndex: 2035 entries, 2018-09-28 to 2010-07-21\n",
      "Data columns (total 7 columns):\n",
      " #   Column                Non-Null Count  Dtype  \n",
      "---  ------                --------------  -----  \n",
      " 0   Open                  2035 non-null   float64\n",
      " 1   High                  2035 non-null   float64\n",
      " 2   Low                   2035 non-null   float64\n",
      " 3   Last                  2035 non-null   float64\n",
      " 4   Close                 2035 non-null   float64\n",
      " 5   Total Trade Quantity  2035 non-null   int64  \n",
      " 6   Turnover (Lacs)       2035 non-null   float64\n",
      "dtypes: float64(6), int64(1)\n",
      "memory usage: 127.2 KB\n"
     ]
    }
   ],
   "source": [
    "df.info()"
   ]
  },
  {
   "cell_type": "code",
   "execution_count": 7,
   "metadata": {},
   "outputs": [],
   "source": [
    "df1=df.reset_index()['Close']"
   ]
  },
  {
   "cell_type": "code",
   "execution_count": 8,
   "metadata": {},
   "outputs": [
    {
     "data": {
      "text/plain": [
       "0    233.75\n",
       "1    233.25\n",
       "2    234.25\n",
       "3    236.10\n",
       "4    233.30\n",
       "5    234.60\n",
       "6    234.90\n",
       "7    235.05\n",
       "8    236.60\n",
       "9    233.95\n",
       "Name: Close, dtype: float64"
      ]
     },
     "execution_count": 8,
     "metadata": {},
     "output_type": "execute_result"
    }
   ],
   "source": [
    "df1[ : 10]"
   ]
  },
  {
   "cell_type": "code",
   "execution_count": 9,
   "metadata": {},
   "outputs": [
    {
     "data": {
      "image/png": "[encoded data removed]",
      "text/plain": [
       "<Figure size 640x480 with 1 Axes>"
      ]
     },
     "metadata": {},
     "output_type": "display_data"
    }
   ],
   "source": [
    "plt.plot(df1);"
   ]
  },
  {
   "cell_type": "code",
   "execution_count": 10,
   "metadata": {},
   "outputs": [],
   "source": [
    " # LSTM are sensitive to the scale of the data. so we apply MinMax scaler "
   ]
  },
  {
   "cell_type": "code",
   "execution_count": 11,
   "metadata": {},
   "outputs": [],
   "source": [
    "scaler = MinMaxScaler(feature_range=(0,1))\n",
    "df1 = scaler.fit_transform(np.array(df1).reshape(-1,1))"
   ]
  },
  {
   "cell_type": "code",
   "execution_count": 12,
   "metadata": {},
   "outputs": [
    {
     "data": {
      "text/plain": [
       "array([[0.62418301],\n",
       "       [0.62214052],\n",
       "       [0.62622549],\n",
       "       [0.63378268],\n",
       "       [0.62234477],\n",
       "       [0.62765523],\n",
       "       [0.62888072],\n",
       "       [0.62949346],\n",
       "       [0.63582516],\n",
       "       [0.625     ]])"
      ]
     },
     "execution_count": 12,
     "metadata": {},
     "output_type": "execute_result"
    }
   ],
   "source": [
    "df1[ :10]"
   ]
  },
  {
   "cell_type": "code",
   "execution_count": 13,
   "metadata": {},
   "outputs": [],
   "source": [
    "# splitting dataset into train and test split\n",
    "training_size=int(len(df1)*0.65)\n",
    "test_size=len(df1)-training_size\n",
    "\n",
    "train_data, test_data = df1[0:training_size,:],df1[training_size:len(df1),:1]"
   ]
  },
  {
   "cell_type": "code",
   "execution_count": 14,
   "metadata": {},
   "outputs": [
    {
     "data": {
      "text/plain": [
       "(1322, 713)"
      ]
     },
     "execution_count": 14,
     "metadata": {},
     "output_type": "execute_result"
    }
   ],
   "source": [
    "training_size, test_size"
   ]
  },
  {
   "cell_type": "code",
   "execution_count": 17,
   "metadata": {},
   "outputs": [],
   "source": [
    "def create_dataset(dataset, time_step=1):\n",
    "    dataX, dataY = [], []\n",
    "    for i in range(len(dataset)-time_step-1):\n",
    "        a = dataset[i:(i+time_step), 0]\n",
    "        dataX.append(a)\n",
    "        dataY.append(dataset[i + time_step, 0])\n",
    "    return np.array(dataX), np.array(dataY)"
   ]
  },
  {
   "cell_type": "code",
   "execution_count": 18,
   "metadata": {},
   "outputs": [],
   "source": [
    "time_step = 100\n",
    "X_train, y_train = create_dataset(train_data, time_step)\n",
    "X_test, ytest = create_dataset(test_data, time_step)"
   ]
  },
  {
   "cell_type": "code",
   "execution_count": 19,
   "metadata": {},
   "outputs": [
    {
     "data": {
      "text/plain": [
       "(1221, 100)"
      ]
     },
     "execution_count": 19,
     "metadata": {},
     "output_type": "execute_result"
    }
   ],
   "source": [
    "X_train.shape"
   ]
  },
  {
   "cell_type": "code",
   "execution_count": 20,
   "metadata": {},
   "outputs": [
    {
     "data": {
      "text/plain": [
       "(612, 100)"
      ]
     },
     "execution_count": 20,
     "metadata": {},
     "output_type": "execute_result"
    }
   ],
   "source": [
    "X_test.shape"
   ]
  },
  {
   "cell_type": "code",
   "execution_count": 21,
   "metadata": {},
   "outputs": [],
   "source": [
    "# reshape input to be [samples, time steps, features] which is required for LSTM\n",
    "X_train = X_train.reshape(X_train.shape[0],X_train.shape[1] , 1)\n",
    "X_test = X_test.reshape(X_test.shape[0],X_test.shape[1] , 1)"
   ]
  },
  {
   "cell_type": "code",
   "execution_count": 22,
   "metadata": {},
   "outputs": [],
   "source": [
    "### Create the Stacked LSTM model\n",
    "from tensorflow.keras.models import Sequential\n",
    "from tensorflow.keras.layers import Dense\n",
    "from tensorflow.keras.layers import LSTM"
   ]
  },
  {
   "cell_type": "code",
   "execution_count": 23,
   "metadata": {},
   "outputs": [],
   "source": [
    "model=Sequential()\n",
    "model.add(LSTM(50,return_sequences=True,input_shape=(100,1)))\n",
    "model.add(LSTM(50,return_sequences=True))\n",
    "model.add(LSTM(50))\n",
    "model.add(Dense(1))\n",
    "model.compile(loss='mean_squared_error',optimizer='adam')"
   ]
  },
  {
   "cell_type": "code",
   "execution_count": 24,
   "metadata": {},
   "outputs": [
    {
     "name": "stdout",
     "output_type": "stream",
     "text": [
      "Model: \"sequential\"\n",
      "_________________________________________________________________\n",
      " Layer (type)                Output Shape              Param #   \n",
      "=================================================================\n",
      " lstm (LSTM)                 (None, 100, 50)           10400     \n",
      "                                                                 \n",
      " lstm_1 (LSTM)               (None, 100, 50)           20200     \n",
      "                                                                 \n",
      " lstm_2 (LSTM)               (None, 50)                20200     \n",
      "                                                                 \n",
      " dense (Dense)               (None, 1)                 51        \n",
      "                                                                 \n",
      "=================================================================\n",
      "Total params: 50,851\n",
      "Trainable params: 50,851\n",
      "Non-trainable params: 0\n",
      "_________________________________________________________________\n"
     ]
    }
   ],
   "source": [
    "model.summary()"
   ]
  },
  {
   "cell_type": "code",
   "execution_count": 25,
   "metadata": {},
   "outputs": [
    {
     "name": "stdout",
     "output_type": "stream",
     "text": [
      "Epoch 1/100\n",
      "20/20 [==============================] - 12s 302ms/step - loss: 0.0197 - val_loss: 0.0057\n",
      "Epoch 2/100\n",
      "20/20 [==============================] - 4s 204ms/step - loss: 0.0029 - val_loss: 9.2864e-04\n",
      "Epoch 3/100\n",
      "20/20 [==============================] - 4s 200ms/step - loss: 0.0017 - val_loss: 9.0070e-04\n",
      "Epoch 4/100\n",
      "20/20 [==============================] - 4s 214ms/step - loss: 0.0016 - val_loss: 0.0011\n",
      "Epoch 5/100\n",
      "20/20 [==============================] - 4s 213ms/step - loss: 0.0014 - val_loss: 8.0454e-04\n",
      "Epoch 6/100\n",
      "20/20 [==============================] - 4s 206ms/step - loss: 0.0020 - val_loss: 0.0011\n",
      "Epoch 7/100\n",
      "20/20 [==============================] - 4s 207ms/step - loss: 0.0013 - val_loss: 0.0013\n",
      "Epoch 8/100\n",
      "20/20 [==============================] - 4s 221ms/step - loss: 0.0014 - val_loss: 8.6041e-04\n",
      "Epoch 9/100\n",
      "20/20 [==============================] - 5s 276ms/step - loss: 0.0012 - val_loss: 9.4451e-04\n",
      "Epoch 10/100\n",
      "20/20 [==============================] - 5s 267ms/step - loss: 0.0014 - val_loss: 0.0016\n",
      "Epoch 11/100\n",
      "20/20 [==============================] - 5s 232ms/step - loss: 0.0012 - val_loss: 7.3405e-04\n",
      "Epoch 12/100\n",
      "20/20 [==============================] - 4s 217ms/step - loss: 0.0011 - val_loss: 7.2676e-04\n",
      "Epoch 13/100\n",
      "20/20 [==============================] - 5s 244ms/step - loss: 0.0012 - val_loss: 6.7177e-04\n",
      "Epoch 14/100\n",
      "20/20 [==============================] - 5s 263ms/step - loss: 0.0010 - val_loss: 7.9444e-04\n",
      "Epoch 15/100\n",
      "20/20 [==============================] - 4s 218ms/step - loss: 9.4815e-04 - val_loss: 6.9582e-04\n",
      "Epoch 16/100\n",
      "20/20 [==============================] - 4s 226ms/step - loss: 9.1007e-04 - val_loss: 8.9576e-04\n",
      "Epoch 17/100\n",
      "20/20 [==============================] - 5s 231ms/step - loss: 8.8964e-04 - val_loss: 8.8970e-04\n",
      "Epoch 18/100\n",
      "20/20 [==============================] - 5s 251ms/step - loss: 8.4187e-04 - val_loss: 7.6670e-04\n",
      "Epoch 19/100\n",
      "20/20 [==============================] - 5s 254ms/step - loss: 7.9739e-04 - val_loss: 6.7281e-04\n",
      "Epoch 20/100\n",
      "20/20 [==============================] - 5s 226ms/step - loss: 7.9094e-04 - val_loss: 5.8013e-04\n",
      "Epoch 21/100\n",
      "20/20 [==============================] - 4s 217ms/step - loss: 8.3160e-04 - val_loss: 9.0046e-04\n",
      "Epoch 22/100\n",
      "20/20 [==============================] - 5s 238ms/step - loss: 7.9651e-04 - val_loss: 8.9442e-04\n",
      "Epoch 23/100\n",
      "20/20 [==============================] - 4s 219ms/step - loss: 7.7972e-04 - val_loss: 7.0829e-04\n",
      "Epoch 24/100\n",
      "20/20 [==============================] - 5s 233ms/step - loss: 7.2476e-04 - val_loss: 5.9308e-04\n",
      "Epoch 25/100\n",
      "20/20 [==============================] - 5s 250ms/step - loss: 8.3747e-04 - val_loss: 6.9494e-04\n",
      "Epoch 26/100\n",
      "20/20 [==============================] - 5s 253ms/step - loss: 6.7153e-04 - val_loss: 8.6232e-04\n",
      "Epoch 27/100\n",
      "20/20 [==============================] - 6s 282ms/step - loss: 6.7113e-04 - val_loss: 6.3194e-04\n",
      "Epoch 28/100\n",
      "20/20 [==============================] - 6s 285ms/step - loss: 6.9932e-04 - val_loss: 7.5994e-04\n",
      "Epoch 29/100\n",
      "20/20 [==============================] - 5s 260ms/step - loss: 6.4596e-04 - val_loss: 7.1870e-04\n",
      "Epoch 30/100\n",
      "20/20 [==============================] - 4s 218ms/step - loss: 6.5920e-04 - val_loss: 0.0011\n",
      "Epoch 31/100\n",
      "20/20 [==============================] - 5s 234ms/step - loss: 9.5282e-04 - val_loss: 8.3365e-04\n",
      "Epoch 32/100\n",
      "20/20 [==============================] - 5s 242ms/step - loss: 6.4845e-04 - val_loss: 7.3680e-04\n",
      "Epoch 33/100\n",
      "20/20 [==============================] - 4s 211ms/step - loss: 6.0379e-04 - val_loss: 7.3965e-04\n",
      "Epoch 34/100\n",
      "20/20 [==============================] - 4s 208ms/step - loss: 6.0416e-04 - val_loss: 5.9225e-04\n",
      "Epoch 35/100\n",
      "20/20 [==============================] - 4s 210ms/step - loss: 6.1793e-04 - val_loss: 6.5907e-04\n",
      "Epoch 36/100\n",
      "20/20 [==============================] - 4s 217ms/step - loss: 5.8529e-04 - val_loss: 6.8095e-04\n",
      "Epoch 37/100\n",
      "20/20 [==============================] - 5s 237ms/step - loss: 5.8440e-04 - val_loss: 7.1353e-04\n",
      "Epoch 38/100\n",
      "20/20 [==============================] - 5s 234ms/step - loss: 6.1264e-04 - val_loss: 7.1907e-04\n",
      "Epoch 39/100\n",
      "20/20 [==============================] - 4s 215ms/step - loss: 5.6485e-04 - val_loss: 5.6565e-04\n",
      "Epoch 40/100\n",
      "20/20 [==============================] - 4s 213ms/step - loss: 6.7011e-04 - val_loss: 5.0620e-04\n",
      "Epoch 41/100\n",
      "20/20 [==============================] - 5s 230ms/step - loss: 6.1852e-04 - val_loss: 6.9867e-04\n",
      "Epoch 42/100\n",
      "20/20 [==============================] - 5s 267ms/step - loss: 5.3091e-04 - val_loss: 6.7695e-04\n",
      "Epoch 43/100\n",
      "20/20 [==============================] - 5s 272ms/step - loss: 5.6471e-04 - val_loss: 4.9016e-04\n",
      "Epoch 44/100\n",
      "20/20 [==============================] - 6s 289ms/step - loss: 5.7334e-04 - val_loss: 5.8259e-04\n",
      "Epoch 45/100\n",
      "20/20 [==============================] - 5s 262ms/step - loss: 6.4139e-04 - val_loss: 5.5441e-04\n",
      "Epoch 46/100\n",
      "20/20 [==============================] - 5s 260ms/step - loss: 5.3774e-04 - val_loss: 6.4865e-04\n",
      "Epoch 47/100\n",
      "20/20 [==============================] - 5s 271ms/step - loss: 5.0924e-04 - val_loss: 4.8339e-04\n",
      "Epoch 48/100\n",
      "20/20 [==============================] - 6s 307ms/step - loss: 5.9413e-04 - val_loss: 6.1537e-04\n",
      "Epoch 49/100\n",
      "20/20 [==============================] - 5s 240ms/step - loss: 5.5221e-04 - val_loss: 4.6132e-04\n",
      "Epoch 50/100\n",
      "20/20 [==============================] - 5s 274ms/step - loss: 4.9583e-04 - val_loss: 5.2019e-04\n",
      "Epoch 51/100\n",
      "20/20 [==============================] - 4s 218ms/step - loss: 6.2126e-04 - val_loss: 4.3599e-04\n",
      "Epoch 52/100\n",
      "20/20 [==============================] - 4s 226ms/step - loss: 7.0022e-04 - val_loss: 7.2668e-04\n",
      "Epoch 53/100\n",
      "20/20 [==============================] - 4s 221ms/step - loss: 9.4350e-04 - val_loss: 0.0011\n",
      "Epoch 54/100\n",
      "20/20 [==============================] - 6s 298ms/step - loss: 6.1600e-04 - val_loss: 4.3939e-04\n",
      "Epoch 55/100\n",
      "20/20 [==============================] - 5s 270ms/step - loss: 4.6424e-04 - val_loss: 5.4744e-04\n",
      "Epoch 56/100\n",
      "20/20 [==============================] - 5s 237ms/step - loss: 4.8478e-04 - val_loss: 5.1787e-04\n",
      "Epoch 57/100\n",
      "20/20 [==============================] - 5s 250ms/step - loss: 4.4026e-04 - val_loss: 4.7183e-04\n",
      "Epoch 58/100\n",
      "20/20 [==============================] - 5s 232ms/step - loss: 4.2133e-04 - val_loss: 4.0016e-04\n",
      "Epoch 59/100\n",
      "20/20 [==============================] - 5s 237ms/step - loss: 4.5285e-04 - val_loss: 6.7685e-04\n",
      "Epoch 60/100\n",
      "20/20 [==============================] - 4s 224ms/step - loss: 6.4371e-04 - val_loss: 4.7662e-04\n",
      "Epoch 61/100\n",
      "20/20 [==============================] - 4s 226ms/step - loss: 4.6284e-04 - val_loss: 4.6562e-04\n",
      "Epoch 62/100\n",
      "20/20 [==============================] - 6s 286ms/step - loss: 4.2076e-04 - val_loss: 3.6211e-04\n",
      "Epoch 63/100\n",
      "20/20 [==============================] - 5s 271ms/step - loss: 4.1718e-04 - val_loss: 4.9195e-04\n",
      "Epoch 64/100\n",
      "20/20 [==============================] - 5s 270ms/step - loss: 4.4994e-04 - val_loss: 3.5566e-04\n",
      "Epoch 65/100\n",
      "20/20 [==============================] - 5s 275ms/step - loss: 4.0972e-04 - val_loss: 4.7931e-04\n",
      "Epoch 66/100\n",
      "20/20 [==============================] - 6s 298ms/step - loss: 4.2547e-04 - val_loss: 3.7175e-04\n",
      "Epoch 67/100\n",
      "20/20 [==============================] - 4s 216ms/step - loss: 3.7656e-04 - val_loss: 3.7562e-04\n",
      "Epoch 68/100\n",
      "20/20 [==============================] - 4s 212ms/step - loss: 3.6881e-04 - val_loss: 3.6134e-04\n",
      "Epoch 69/100\n",
      "20/20 [==============================] - 4s 214ms/step - loss: 3.9465e-04 - val_loss: 4.8652e-04\n",
      "Epoch 70/100\n",
      "20/20 [==============================] - 4s 216ms/step - loss: 3.4773e-04 - val_loss: 3.5214e-04\n",
      "Epoch 71/100\n",
      "20/20 [==============================] - 4s 219ms/step - loss: 3.5657e-04 - val_loss: 3.0032e-04\n",
      "Epoch 72/100\n",
      "20/20 [==============================] - 5s 270ms/step - loss: 3.6647e-04 - val_loss: 4.7921e-04\n",
      "Epoch 73/100\n",
      "20/20 [==============================] - 6s 287ms/step - loss: 3.7872e-04 - val_loss: 3.6818e-04\n",
      "Epoch 74/100\n",
      "20/20 [==============================] - 4s 203ms/step - loss: 3.5325e-04 - val_loss: 3.3936e-04\n",
      "Epoch 75/100\n",
      "20/20 [==============================] - 5s 236ms/step - loss: 3.7336e-04 - val_loss: 2.8943e-04\n",
      "Epoch 76/100\n",
      "20/20 [==============================] - 6s 302ms/step - loss: 3.5583e-04 - val_loss: 4.5064e-04\n",
      "Epoch 77/100\n",
      "20/20 [==============================] - 4s 211ms/step - loss: 3.3526e-04 - val_loss: 4.6456e-04\n",
      "Epoch 78/100\n",
      "20/20 [==============================] - 4s 205ms/step - loss: 3.3902e-04 - val_loss: 2.6535e-04\n",
      "Epoch 79/100\n",
      "20/20 [==============================] - 4s 209ms/step - loss: 3.1297e-04 - val_loss: 3.2799e-04\n",
      "Epoch 80/100\n",
      "20/20 [==============================] - 4s 226ms/step - loss: 3.6820e-04 - val_loss: 3.1369e-04\n",
      "Epoch 81/100\n",
      "20/20 [==============================] - 4s 207ms/step - loss: 3.4040e-04 - val_loss: 2.8059e-04\n",
      "Epoch 82/100\n",
      "20/20 [==============================] - 4s 203ms/step - loss: 2.9269e-04 - val_loss: 2.5053e-04\n",
      "Epoch 83/100\n",
      "20/20 [==============================] - 4s 214ms/step - loss: 3.4290e-04 - val_loss: 4.5068e-04\n",
      "Epoch 84/100\n",
      "20/20 [==============================] - 5s 241ms/step - loss: 3.8768e-04 - val_loss: 2.5232e-04\n",
      "Epoch 85/100\n",
      "20/20 [==============================] - 4s 212ms/step - loss: 2.8260e-04 - val_loss: 3.0187e-04\n",
      "Epoch 86/100\n",
      "20/20 [==============================] - 4s 210ms/step - loss: 2.7857e-04 - val_loss: 2.9623e-04\n",
      "Epoch 87/100\n",
      "20/20 [==============================] - 4s 208ms/step - loss: 2.7176e-04 - val_loss: 3.0164e-04\n",
      "Epoch 88/100\n",
      "20/20 [==============================] - 4s 214ms/step - loss: 2.6546e-04 - val_loss: 3.2306e-04\n",
      "Epoch 89/100\n",
      "20/20 [==============================] - 5s 234ms/step - loss: 2.8743e-04 - val_loss: 3.9828e-04\n",
      "Epoch 90/100\n",
      "20/20 [==============================] - 5s 240ms/step - loss: 3.2883e-04 - val_loss: 2.5717e-04\n",
      "Epoch 91/100\n",
      "20/20 [==============================] - 5s 251ms/step - loss: 3.1113e-04 - val_loss: 2.3618e-04\n",
      "Epoch 92/100\n",
      "20/20 [==============================] - 5s 243ms/step - loss: 2.8279e-04 - val_loss: 3.4673e-04\n",
      "Epoch 93/100\n",
      "20/20 [==============================] - 5s 240ms/step - loss: 2.7909e-04 - val_loss: 2.1342e-04\n",
      "Epoch 94/100\n",
      "20/20 [==============================] - 5s 243ms/step - loss: 2.7179e-04 - val_loss: 2.3664e-04\n",
      "Epoch 95/100\n",
      "20/20 [==============================] - 5s 276ms/step - loss: 2.5315e-04 - val_loss: 3.0789e-04\n",
      "Epoch 96/100\n",
      "20/20 [==============================] - 5s 250ms/step - loss: 2.5972e-04 - val_loss: 3.4476e-04\n",
      "Epoch 97/100\n",
      "20/20 [==============================] - 5s 262ms/step - loss: 3.3111e-04 - val_loss: 2.3940e-04\n",
      "Epoch 98/100\n",
      "20/20 [==============================] - 5s 265ms/step - loss: 3.5085e-04 - val_loss: 2.8592e-04\n",
      "Epoch 99/100\n",
      "20/20 [==============================] - 5s 270ms/step - loss: 3.6159e-04 - val_loss: 4.9480e-04\n",
      "Epoch 100/100\n",
      "20/20 [==============================] - 5s 251ms/step - loss: 3.9668e-04 - val_loss: 2.1797e-04\n"
     ]
    },
    {
     "data": {
      "text/plain": [
       "<keras.callbacks.History at 0x24201f5f760>"
      ]
     },
     "execution_count": 25,
     "metadata": {},
     "output_type": "execute_result"
    }
   ],
   "source": [
    "model.fit(X_train,y_train,validation_data=(X_test,ytest),epochs=100,batch_size=64,verbose=1)"
   ]
  },
  {
   "cell_type": "code",
   "execution_count": 26,
   "metadata": {},
   "outputs": [
    {
     "name": "stdout",
     "output_type": "stream",
     "text": [
      "39/39 [==============================] - 4s 48ms/step\n",
      "20/20 [==============================] - 1s 54ms/step\n"
     ]
    }
   ],
   "source": [
    "### Lets Do the prediction and check performance metrics\n",
    "train_predict=model.predict(X_train)\n",
    "test_predict=model.predict(X_test)"
   ]
  },
  {
   "cell_type": "code",
   "execution_count": 27,
   "metadata": {},
   "outputs": [],
   "source": [
    "##Transformback to original form\n",
    "train_predict=scaler.inverse_transform(train_predict)\n",
    "test_predict=scaler.inverse_transform(test_predict)"
   ]
  },
  {
   "cell_type": "code",
   "execution_count": 28,
   "metadata": {},
   "outputs": [
    {
     "data": {
      "text/plain": [
       "163.76247945410256"
      ]
     },
     "execution_count": 28,
     "metadata": {},
     "output_type": "execute_result"
    }
   ],
   "source": [
    "### Calculate RMSE performance metrics\n",
    "math.sqrt(mean_squared_error(y_train,train_predict))"
   ]
  },
  {
   "cell_type": "code",
   "execution_count": 29,
   "metadata": {},
   "outputs": [
    {
     "data": {
      "text/plain": [
       "115.11540246670567"
      ]
     },
     "execution_count": 29,
     "metadata": {},
     "output_type": "execute_result"
    }
   ],
   "source": [
    "### Test Data RMSE\n",
    "math.sqrt(mean_squared_error(ytest,test_predict))"
   ]
  },
  {
   "cell_type": "code",
   "execution_count": 31,
   "metadata": {},
   "outputs": [
    {
     "data": {
      "image/png": "[encoded data removed]",
      "text/plain": [
       "<Figure size 640x480 with 1 Axes>"
      ]
     },
     "metadata": {},
     "output_type": "display_data"
    }
   ],
   "source": [
    "### Plotting \n",
    "# shift train predictions for plotting\n",
    "look_back=100\n",
    "trainPredictPlot = np.empty_like(df1)\n",
    "trainPredictPlot[:, :] = np.nan\n",
    "trainPredictPlot[look_back:len(train_predict)+look_back, :] = train_predict\n",
    "\n",
    "# shift test predictions for plotting\n",
    "testPredictPlot = np.empty_like(df1)\n",
    "testPredictPlot[:, :] = np.nan\n",
    "testPredictPlot[len(train_predict)+(look_back*2)+1:len(df1)-1, :] = test_predict\n",
    "\n",
    "# plot baseline and predictions\n",
    "plt.plot(scaler.inverse_transform(df1))\n",
    "plt.plot(trainPredictPlot)\n",
    "plt.plot(testPredictPlot)\n",
    "plt.show()"
   ]
  },
  {
   "cell_type": "code",
   "execution_count": null,
   "metadata": {},
   "outputs": [],
   "source": [
    "# Done ..."
   ]
  }
 ],
 "metadata": {
  "kernelspec": {
   "display_name": "Python 3 (ipykernel)",
   "language": "python",
   "name": "python3"
  },
  "language_info": {
   "codemirror_mode": {
    "name": "ipython",
    "version": 3
   },
   "file_extension": ".py",
   "mimetype": "text/x-python",
   "name": "python",
   "nbconvert_exporter": "python",
   "pygments_lexer": "ipython3",
   "version": "3.10.9"
  }
 },
 "nbformat": 4,
 "nbformat_minor": 4
}
