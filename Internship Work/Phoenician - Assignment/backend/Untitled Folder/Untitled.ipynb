{
 "cells": [
  {
   "cell_type": "code",
   "execution_count": 1,
   "id": "4d045c40-963e-4b3f-a3bb-5e8b53c2efa2",
   "metadata": {},
   "outputs": [],
   "source": [
    "from collections import defaultdict\n",
    "\n",
    "# Sample JSON data (replace with your actual data)\n",
    "data = [\n",
    "    {\"ITEM\": \"1\", \"DESCRIPTION\": \"BILL NO. 1 - PRELIMINARIES\", \"QUANTITY\": None, \"UNIT\": None, \"UNIT PRICE(AED)\": None, \"TOTAL PRICE (AED)\": None, \"REMARKS\": None},\n",
    "    {\"ITEM\": \"1.1\", \"DESCRIPTION\": \"GENERAL REQUIREMENTS\", \"QUANTITY\": None, \"UNIT\": None, \"UNIT PRICE(AED)\": None, \"TOTAL PRICE (AED)\": None, \"REMARKS\": None},\n",
    "    {\"ITEM\": \"1.1.1\", \"DESCRIPTION\": \"General notes on preliminaries\", \"QUANTITY\": None, \"UNIT\": None, \"UNIT PRICE(AED)\": None, \"TOTAL PRICE (AED)\": None, \"REMARKS\": None}\n",
    "]\n",
    "\n",
    "# Organizing data in a dictionary structure\n",
    "organized_data = defaultdict(lambda: defaultdict(dict))\n",
    "\n",
    "for item in data:\n",
    "    item_key_parts = item[\"ITEM\"].split(\".\")\n",
    "    \n",
    "    if len(item_key_parts) == 1:\n",
    "        # Main item level (e.g., \"1\", \"2\", \"3\")\n",
    "        organized_data[item_key_parts[0]][\"data\"] = item\n",
    "    elif len(item_key_parts) == 2:\n",
    "        # Sub-item level (e.g., \"1.1\", \"1.2\")\n",
    "        organized_data[item_key_parts[0]][item_key_parts[1]][\"data\"] = item\n",
    "    elif len(item_key_parts) == 3:\n",
    "        # Sub-sub-item level (e.g., \"1.1.1\", \"1.1.2\")\n",
    "        organized_data[item_key_parts[0]][item_key_parts[1]][item_key_parts[2]] = item\n",
    "\n",
    "# Converting defaultdict to regular dict for readability (optional)\n",
    "organized_data = dict(organized_data)\n"
   ]
  },
  {
   "cell_type": "code",
   "execution_count": 2,
   "id": "e76850d7-a22f-4300-bea3-9d00ee23dc95",
   "metadata": {},
   "outputs": [
    {
     "data": {
      "text/plain": [
       "{'1': defaultdict(dict,\n",
       "             {'data': {'ITEM': '1',\n",
       "               'DESCRIPTION': 'BILL NO. 1 - PRELIMINARIES',\n",
       "               'QUANTITY': None,\n",
       "               'UNIT': None,\n",
       "               'UNIT PRICE(AED)': None,\n",
       "               'TOTAL PRICE (AED)': None,\n",
       "               'REMARKS': None},\n",
       "              '1': {'data': {'ITEM': '1.1',\n",
       "                'DESCRIPTION': 'GENERAL REQUIREMENTS',\n",
       "                'QUANTITY': None,\n",
       "                'UNIT': None,\n",
       "                'UNIT PRICE(AED)': None,\n",
       "                'TOTAL PRICE (AED)': None,\n",
       "                'REMARKS': None},\n",
       "               '1': {'ITEM': '1.1.1',\n",
       "                'DESCRIPTION': 'General notes on preliminaries',\n",
       "                'QUANTITY': None,\n",
       "                'UNIT': None,\n",
       "                'UNIT PRICE(AED)': None,\n",
       "                'TOTAL PRICE (AED)': None,\n",
       "                'REMARKS': None}}})}"
      ]
     },
     "execution_count": 2,
     "metadata": {},
     "output_type": "execute_result"
    }
   ],
   "source": [
    "organized_data"
   ]
  },
  {
   "cell_type": "code",
   "execution_count": null,
   "id": "6fe852fc-6508-4c63-8fb2-49a836310360",
   "metadata": {},
   "outputs": [],
   "source": []
  }
 ],
 "metadata": {
  "kernelspec": {
   "display_name": "Python 3 (ipykernel)",
   "language": "python",
   "name": "python3"
  },
  "language_info": {
   "codemirror_mode": {
    "name": "ipython",
    "version": 3
   },
   "file_extension": ".py",
   "mimetype": "text/x-python",
   "name": "python",
   "nbconvert_exporter": "python",
   "pygments_lexer": "ipython3",
   "version": "3.12.7"
  }
 },
 "nbformat": 4,
 "nbformat_minor": 5
}
