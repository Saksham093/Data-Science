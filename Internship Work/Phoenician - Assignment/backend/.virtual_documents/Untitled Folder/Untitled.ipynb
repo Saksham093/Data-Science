from collections import defaultdict

# Sample JSON data (replace with your actual data)
data = [
    {"ITEM": "1", "DESCRIPTION": "BILL NO. 1 - PRELIMINARIES", "QUANTITY": None, "UNIT": None, "UNIT PRICE(AED)": None, "TOTAL PRICE (AED)": None, "REMARKS": None},
    {"ITEM": "1.1", "DESCRIPTION": "GENERAL REQUIREMENTS", "QUANTITY": None, "UNIT": None, "UNIT PRICE(AED)": None, "TOTAL PRICE (AED)": None, "REMARKS": None},
    {"ITEM": "1.1.1", "DESCRIPTION": "General notes on preliminaries", "QUANTITY": None, "UNIT": None, "UNIT PRICE(AED)": None, "TOTAL PRICE (AED)": None, "REMARKS": None}
]

# Organizing data in a dictionary structure
organized_data = defaultdict(lambda: defaultdict(dict))

for item in data:
    item_key_parts = item["ITEM"].split(".")
    
    if len(item_key_parts) == 1:
        # Main item level (e.g., "1", "2", "3")
        organized_data[item_key_parts[0]]["data"] = item
    elif len(item_key_parts) == 2:
        # Sub-item level (e.g., "1.1", "1.2")
        organized_data[item_key_parts[0]][item_key_parts[1]]["data"] = item
    elif len(item_key_parts) == 3:
        # Sub-sub-item level (e.g., "1.1.1", "1.1.2")
        organized_data[item_key_parts[0]][item_key_parts[1]][item_key_parts[2]] = item

# Converting defaultdict to regular dict for readability (optional)
organized_data = dict(organized_data)



organized_data



