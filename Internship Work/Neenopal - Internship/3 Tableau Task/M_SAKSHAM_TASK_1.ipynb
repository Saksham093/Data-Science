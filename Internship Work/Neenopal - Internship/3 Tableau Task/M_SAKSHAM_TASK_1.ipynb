{
 "cells": [
  {
   "cell_type": "markdown",
   "id": "719f8de9-d2c5-4e52-ac79-ffa3e5fd5647",
   "metadata": {},
   "source": [
    "# **TASK 1**"
   ]
  },
  {
   "cell_type": "code",
   "execution_count": 1,
   "id": "f6d7a7e5-9109-4076-9cd1-32d553267228",
   "metadata": {},
   "outputs": [],
   "source": [
    "import pandas as pd"
   ]
  },
  {
   "cell_type": "markdown",
   "id": "b4f5bf11-9797-4bbc-bbad-d2b97b443184",
   "metadata": {
    "tags": []
   },
   "source": [
    "### **Load Data...**"
   ]
  },
  {
   "cell_type": "code",
   "execution_count": 2,
   "id": "93395525-76fe-472b-aa4c-d049353845c4",
   "metadata": {},
   "outputs": [],
   "source": [
    "df_1 = pd.read_csv(r'data1.csv')  # data1...\n",
    "df_2 = pd.read_csv(r'data2.csv')  # data2..."
   ]
  },
  {
   "cell_type": "code",
   "execution_count": 3,
   "id": "65b1832b-3b9b-4fdc-a750-54973c4fc377",
   "metadata": {},
   "outputs": [
    {
     "data": {
      "text/html": [
       "<div>\n",
       "<style scoped>\n",
       "    .dataframe tbody tr th:only-of-type {\n",
       "        vertical-align: middle;\n",
       "    }\n",
       "\n",
       "    .dataframe tbody tr th {\n",
       "        vertical-align: top;\n",
       "    }\n",
       "\n",
       "    .dataframe thead th {\n",
       "        text-align: right;\n",
       "    }\n",
       "</style>\n",
       "<table border=\"1\" class=\"dataframe\">\n",
       "  <thead>\n",
       "    <tr style=\"text-align: right;\">\n",
       "      <th></th>\n",
       "      <th>Order ID</th>\n",
       "      <th>Product ID</th>\n",
       "      <th>Qty</th>\n",
       "    </tr>\n",
       "  </thead>\n",
       "  <tbody>\n",
       "    <tr>\n",
       "      <th>0</th>\n",
       "      <td>CA-2014-100006</td>\n",
       "      <td>TEC-PH-10002075</td>\n",
       "      <td>3</td>\n",
       "    </tr>\n",
       "    <tr>\n",
       "      <th>1</th>\n",
       "      <td>CA-2014-100090</td>\n",
       "      <td>FUR-TA-10003715</td>\n",
       "      <td>3</td>\n",
       "    </tr>\n",
       "    <tr>\n",
       "      <th>2</th>\n",
       "      <td>CA-2014-100090</td>\n",
       "      <td>OFF-BI-10001597</td>\n",
       "      <td>6</td>\n",
       "    </tr>\n",
       "    <tr>\n",
       "      <th>3</th>\n",
       "      <td>CA-2014-100293</td>\n",
       "      <td>OFF-PA-10000176</td>\n",
       "      <td>6</td>\n",
       "    </tr>\n",
       "    <tr>\n",
       "      <th>4</th>\n",
       "      <td>CA-2014-100328</td>\n",
       "      <td>OFF-BI-10000343</td>\n",
       "      <td>1</td>\n",
       "    </tr>\n",
       "  </tbody>\n",
       "</table>\n",
       "</div>"
      ],
      "text/plain": [
       "         Order ID       Product ID  Qty\n",
       "0  CA-2014-100006  TEC-PH-10002075    3\n",
       "1  CA-2014-100090  FUR-TA-10003715    3\n",
       "2  CA-2014-100090  OFF-BI-10001597    6\n",
       "3  CA-2014-100293  OFF-PA-10000176    6\n",
       "4  CA-2014-100328  OFF-BI-10000343    1"
      ]
     },
     "execution_count": 3,
     "metadata": {},
     "output_type": "execute_result"
    }
   ],
   "source": [
    "df_1.head()"
   ]
  },
  {
   "cell_type": "code",
   "execution_count": 4,
   "id": "fea7e6d6-87fb-4227-8a42-22e9be5ae520",
   "metadata": {},
   "outputs": [
    {
     "data": {
      "text/html": [
       "<div>\n",
       "<style scoped>\n",
       "    .dataframe tbody tr th:only-of-type {\n",
       "        vertical-align: middle;\n",
       "    }\n",
       "\n",
       "    .dataframe tbody tr th {\n",
       "        vertical-align: top;\n",
       "    }\n",
       "\n",
       "    .dataframe thead th {\n",
       "        text-align: right;\n",
       "    }\n",
       "</style>\n",
       "<table border=\"1\" class=\"dataframe\">\n",
       "  <thead>\n",
       "    <tr style=\"text-align: right;\">\n",
       "      <th></th>\n",
       "      <th>Order ID</th>\n",
       "      <th>Product ID</th>\n",
       "      <th>Qty</th>\n",
       "    </tr>\n",
       "  </thead>\n",
       "  <tbody>\n",
       "    <tr>\n",
       "      <th>0</th>\n",
       "      <td>CA-2014-100090</td>\n",
       "      <td>FUR-TA-10003715</td>\n",
       "      <td>3</td>\n",
       "    </tr>\n",
       "    <tr>\n",
       "      <th>1</th>\n",
       "      <td>CA-2014-100090</td>\n",
       "      <td>OFF-BI-10001597</td>\n",
       "      <td>6</td>\n",
       "    </tr>\n",
       "    <tr>\n",
       "      <th>2</th>\n",
       "      <td>CA-2014-100293</td>\n",
       "      <td>OFF-PA-10000176</td>\n",
       "      <td>6</td>\n",
       "    </tr>\n",
       "    <tr>\n",
       "      <th>3</th>\n",
       "      <td>CA-2014-100328</td>\n",
       "      <td>OFF-BI-10000343</td>\n",
       "      <td>1</td>\n",
       "    </tr>\n",
       "    <tr>\n",
       "      <th>4</th>\n",
       "      <td>CA-2014-100363</td>\n",
       "      <td>OFF-FA-10000611</td>\n",
       "      <td>2</td>\n",
       "    </tr>\n",
       "  </tbody>\n",
       "</table>\n",
       "</div>"
      ],
      "text/plain": [
       "         Order ID       Product ID  Qty\n",
       "0  CA-2014-100090  FUR-TA-10003715    3\n",
       "1  CA-2014-100090  OFF-BI-10001597    6\n",
       "2  CA-2014-100293  OFF-PA-10000176    6\n",
       "3  CA-2014-100328  OFF-BI-10000343    1\n",
       "4  CA-2014-100363  OFF-FA-10000611    2"
      ]
     },
     "execution_count": 4,
     "metadata": {},
     "output_type": "execute_result"
    }
   ],
   "source": [
    "df_2.head()"
   ]
  },
  {
   "cell_type": "markdown",
   "id": "15fa9be4-0b22-4f5f-b6dd-c36d68b63889",
   "metadata": {},
   "source": [
    "---"
   ]
  },
  {
   "cell_type": "code",
   "execution_count": 5,
   "id": "09f93435-17da-42f0-ac7d-95d82d9134d8",
   "metadata": {},
   "outputs": [],
   "source": [
    "# Create a new column of 'Record' => \"Order ID\" + \"Product ID\"...\n",
    "df_1[\"Record\"] = df_1[\"Order ID\"]+df_1[\"Product ID\"]\n",
    "\n",
    "df_2[\"Record\"] = df_2[\"Order ID\"]+df_2[\"Product ID\"]"
   ]
  },
  {
   "cell_type": "code",
   "execution_count": 6,
   "id": "abbaf0fe-4b79-4c43-a8e0-4baf85ef878c",
   "metadata": {},
   "outputs": [
    {
     "data": {
      "text/html": [
       "<div>\n",
       "<style scoped>\n",
       "    .dataframe tbody tr th:only-of-type {\n",
       "        vertical-align: middle;\n",
       "    }\n",
       "\n",
       "    .dataframe tbody tr th {\n",
       "        vertical-align: top;\n",
       "    }\n",
       "\n",
       "    .dataframe thead th {\n",
       "        text-align: right;\n",
       "    }\n",
       "</style>\n",
       "<table border=\"1\" class=\"dataframe\">\n",
       "  <thead>\n",
       "    <tr style=\"text-align: right;\">\n",
       "      <th></th>\n",
       "      <th>Order ID</th>\n",
       "      <th>Product ID</th>\n",
       "      <th>Qty</th>\n",
       "      <th>Record</th>\n",
       "    </tr>\n",
       "  </thead>\n",
       "  <tbody>\n",
       "    <tr>\n",
       "      <th>0</th>\n",
       "      <td>CA-2014-100006</td>\n",
       "      <td>TEC-PH-10002075</td>\n",
       "      <td>3</td>\n",
       "      <td>CA-2014-100006TEC-PH-10002075</td>\n",
       "    </tr>\n",
       "    <tr>\n",
       "      <th>1</th>\n",
       "      <td>CA-2014-100090</td>\n",
       "      <td>FUR-TA-10003715</td>\n",
       "      <td>3</td>\n",
       "      <td>CA-2014-100090FUR-TA-10003715</td>\n",
       "    </tr>\n",
       "    <tr>\n",
       "      <th>2</th>\n",
       "      <td>CA-2014-100090</td>\n",
       "      <td>OFF-BI-10001597</td>\n",
       "      <td>6</td>\n",
       "      <td>CA-2014-100090OFF-BI-10001597</td>\n",
       "    </tr>\n",
       "    <tr>\n",
       "      <th>3</th>\n",
       "      <td>CA-2014-100293</td>\n",
       "      <td>OFF-PA-10000176</td>\n",
       "      <td>6</td>\n",
       "      <td>CA-2014-100293OFF-PA-10000176</td>\n",
       "    </tr>\n",
       "    <tr>\n",
       "      <th>4</th>\n",
       "      <td>CA-2014-100328</td>\n",
       "      <td>OFF-BI-10000343</td>\n",
       "      <td>1</td>\n",
       "      <td>CA-2014-100328OFF-BI-10000343</td>\n",
       "    </tr>\n",
       "  </tbody>\n",
       "</table>\n",
       "</div>"
      ],
      "text/plain": [
       "         Order ID       Product ID  Qty                         Record\n",
       "0  CA-2014-100006  TEC-PH-10002075    3  CA-2014-100006TEC-PH-10002075\n",
       "1  CA-2014-100090  FUR-TA-10003715    3  CA-2014-100090FUR-TA-10003715\n",
       "2  CA-2014-100090  OFF-BI-10001597    6  CA-2014-100090OFF-BI-10001597\n",
       "3  CA-2014-100293  OFF-PA-10000176    6  CA-2014-100293OFF-PA-10000176\n",
       "4  CA-2014-100328  OFF-BI-10000343    1  CA-2014-100328OFF-BI-10000343"
      ]
     },
     "execution_count": 6,
     "metadata": {},
     "output_type": "execute_result"
    }
   ],
   "source": [
    "df_1.head()"
   ]
  },
  {
   "cell_type": "code",
   "execution_count": 7,
   "id": "d4779907-3705-4307-9cfc-4821aa464986",
   "metadata": {},
   "outputs": [
    {
     "name": "stdout",
     "output_type": "stream",
     "text": [
      "<class 'pandas.core.frame.DataFrame'>\n",
      "RangeIndex: 9478 entries, 0 to 9477\n",
      "Data columns (total 4 columns):\n",
      " #   Column      Non-Null Count  Dtype \n",
      "---  ------      --------------  ----- \n",
      " 0   Order ID    9478 non-null   object\n",
      " 1   Product ID  9478 non-null   object\n",
      " 2   Qty         9478 non-null   int64 \n",
      " 3   Record      9478 non-null   object\n",
      "dtypes: int64(1), object(3)\n",
      "memory usage: 296.3+ KB\n"
     ]
    }
   ],
   "source": [
    "df_1.info()"
   ]
  },
  {
   "cell_type": "code",
   "execution_count": 8,
   "id": "325afcc4-bc17-4056-bff6-1105b82dfd1f",
   "metadata": {},
   "outputs": [
    {
     "name": "stdout",
     "output_type": "stream",
     "text": [
      "<class 'pandas.core.frame.DataFrame'>\n",
      "RangeIndex: 9479 entries, 0 to 9478\n",
      "Data columns (total 4 columns):\n",
      " #   Column      Non-Null Count  Dtype \n",
      "---  ------      --------------  ----- \n",
      " 0   Order ID    9479 non-null   object\n",
      " 1   Product ID  9479 non-null   object\n",
      " 2   Qty         9479 non-null   int64 \n",
      " 3   Record      9479 non-null   object\n",
      "dtypes: int64(1), object(3)\n",
      "memory usage: 296.3+ KB\n"
     ]
    }
   ],
   "source": [
    "df_2.info()"
   ]
  },
  {
   "cell_type": "markdown",
   "id": "b5cadfd9-c7c3-4f91-8cee-c0e50d6ad0e1",
   "metadata": {},
   "source": [
    "---"
   ]
  },
  {
   "cell_type": "markdown",
   "id": "a64549a0-7e19-4937-a1f1-dd83d8bf092e",
   "metadata": {},
   "source": [
    "### **Provide solution and approach for the following:**"
   ]
  },
  {
   "cell_type": "markdown",
   "id": "870cdef4-1cd1-45d1-8b8a-6cb207e5685c",
   "metadata": {},
   "source": [
    "#### **1. How to identify the Records (Order ID + Product ID combination) present in data1 but missing in data2 (Specify the number of records missing in your answer)**"
   ]
  },
  {
   "cell_type": "code",
   "execution_count": 9,
   "id": "f0ab2770-3e76-446a-a7d4-707b28797d00",
   "metadata": {},
   "outputs": [
    {
     "data": {
      "text/plain": [
       "507"
      ]
     },
     "metadata": {},
     "output_type": "display_data"
    }
   ],
   "source": [
    "result_1 = set(df_1[\"Record\"]).difference(set(df_2[\"Record\"]))  # using set...\n",
    "display(len(result_1))"
   ]
  },
  {
   "cell_type": "markdown",
   "id": "9759e122-3913-493c-b8cc-903be3050f6e",
   "metadata": {},
   "source": [
    "#### **2. How to identify the Records (Order ID + Product ID combination) missing in data1 but present in data2 (Specify the number of records missing in your answer)**"
   ]
  },
  {
   "cell_type": "code",
   "execution_count": 10,
   "id": "d8a50240-905a-4269-8dc6-b1cf20d9dfb0",
   "metadata": {},
   "outputs": [
    {
     "name": "stdout",
     "output_type": "stream",
     "text": [
      "508\n"
     ]
    }
   ],
   "source": [
    "result_2 = set(df_2[\"Record\"]).difference(set(df_1[\"Record\"]))  # Using set...\n",
    "print(len(result_2))"
   ]
  },
  {
   "cell_type": "markdown",
   "id": "dffd39fb-cb64-457f-93b9-a7abe0720b66",
   "metadata": {},
   "source": [
    "#### **3. Find the Sum of the total Qty of Records missing in data1 but present in data2**"
   ]
  },
  {
   "cell_type": "code",
   "execution_count": 11,
   "id": "0a0728ad-b0ea-43f8-92c9-bef51e8fa471",
   "metadata": {},
   "outputs": [],
   "source": [
    "total_qty = df_2[df_2['Record'].isin(result_2)]['Qty'].sum()  # If Record value in Result in result_2, sum it..."
   ]
  },
  {
   "cell_type": "code",
   "execution_count": 12,
   "id": "b1f9877d-83e8-4d03-b4f4-c0742390d8af",
   "metadata": {},
   "outputs": [
    {
     "data": {
      "text/plain": [
       "1956"
      ]
     },
     "execution_count": 12,
     "metadata": {},
     "output_type": "execute_result"
    }
   ],
   "source": [
    "total_qty"
   ]
  },
  {
   "cell_type": "markdown",
   "id": "1d0b7e4c-47ee-4fec-b2fd-c97d5ca53eeb",
   "metadata": {},
   "source": [
    "#### **4. Find the total number of unique records (Order ID + Product ID combination) present in the combined dataset of data1 and data2**"
   ]
  },
  {
   "cell_type": "code",
   "execution_count": 13,
   "id": "295eae81-8158-4156-aa79-fe27547513fd",
   "metadata": {},
   "outputs": [],
   "source": [
    "total_record = set(df_1['Record']).union(set(df_2['Record']))  # Geting unique values..."
   ]
  },
  {
   "cell_type": "code",
   "execution_count": 14,
   "id": "bfbdde2c-e969-42a4-a6d9-f54feb5b1872",
   "metadata": {},
   "outputs": [
    {
     "data": {
      "text/plain": [
       "9986"
      ]
     },
     "metadata": {},
     "output_type": "display_data"
    }
   ],
   "source": [
    "display(len(total_record))"
   ]
  },
  {
   "cell_type": "code",
   "execution_count": 15,
   "id": "4e42f5f9-a93b-4baf-a821-eb2d1d1d4d99",
   "metadata": {},
   "outputs": [
    {
     "data": {
      "text/plain": [
       "'Task - 1, Done ...'"
      ]
     },
     "execution_count": 15,
     "metadata": {},
     "output_type": "execute_result"
    }
   ],
   "source": [
    "'Task - 1, Done ...'"
   ]
  }
 ],
 "metadata": {
  "kernelspec": {
   "display_name": "Python 3 (ipykernel)",
   "language": "python",
   "name": "python3"
  },
  "language_info": {
   "codemirror_mode": {
    "name": "ipython",
    "version": 3
   },
   "file_extension": ".py",
   "mimetype": "text/x-python",
   "name": "python",
   "nbconvert_exporter": "python",
   "pygments_lexer": "ipython3",
   "version": "3.10.9"
  }
 },
 "nbformat": 4,
 "nbformat_minor": 5
}
