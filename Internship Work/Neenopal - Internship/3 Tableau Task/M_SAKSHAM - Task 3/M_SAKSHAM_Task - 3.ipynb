{
 "cells": [
  {
   "cell_type": "markdown",
   "id": "f0243407-17d1-422d-88f1-5107e79b068e",
   "metadata": {},
   "source": [
    "# **TASK 3**"
   ]
  },
  {
   "cell_type": "markdown",
   "id": "87d27a5b-2469-4589-b872-0b5bd4c634eb",
   "metadata": {},
   "source": [
    "### **Create following in tableau :**"
   ]
  },
  {
   "cell_type": "markdown",
   "id": "9f9ac217-5a7a-47fd-906c-521231ef3f8d",
   "metadata": {},
   "source": [
    "**YTD -> Year to Date**\n",
    "\n",
    "**LY -> Last Year**\n",
    "\n",
    "**YoY -> Year-over-Year**"
   ]
  },
  {
   "cell_type": "markdown",
   "id": "b8ba80f3-ef5e-4081-9a27-be7a380e7698",
   "metadata": {},
   "source": [
    "#### **1. Formulas for YTD Sales, YTD LY Sales, YoY Growth (= YTD Sales / YTD LY Sales -1)**"
   ]
  },
  {
   "cell_type": "raw",
   "id": "247d486f-1565-4bec-b6b5-99d07b8596d7",
   "metadata": {},
   "source": [
    "**Formula for YTD Sales :**\n",
    "IF DATEPART('year', [Order Date]) = DATEPART('year', TODAY()) AND DATEPART('month', [Order Date]) <= DATEPART('month', TODAY())\n",
    "THEN SUM([Sales])\n",
    "END\n",
    "\n",
    "\n",
    "**Formula for YTD LY Sales :**\n",
    "IF DATEPART('year', [Order Date]) = DATEPART('year', DATEADD('year', -1, TODAY())) AND DATEPART('month', [Order Date]) <= DATEPART('month', DATEADD('year', -1, TODAY()))\n",
    "THEN SUM([Sales])\n",
    "END\n",
    "\n",
    "\n",
    "**Formula for YoY Growth :**\n",
    "(SUM([YTD Sales]) / SUM([YTD LY Sales])) – 1"
   ]
  },
  {
   "cell_type": "markdown",
   "id": "70eb99e9-1884-4a18-ae5c-39f112f06a66",
   "metadata": {},
   "source": [
    "---"
   ]
  },
  {
   "cell_type": "markdown",
   "id": "4b9283e7-59f4-4c04-bd37-b01c59d6ff1b",
   "metadata": {},
   "source": [
    "#### **2. Formulas for YTD Sales, YTD LY Sales, YoY Growth (= YTD Sales / YTD LY Sales -1) but with Financial Year starting as April and not January**"
   ]
  },
  {
   "cell_type": "raw",
   "id": "27da130b-8a5e-4ad7-aa44-9df64cb0711f",
   "metadata": {},
   "source": [
    "YTD Sales (Financial Year April Start):\n",
    "IF DATEPART('year', [Order Date]) = IF DATEPART('month', [Order Date]) >= 4 THEN DATEPART('year', TODAY()) ELSE DATEPART('year', TODAY()) - 1 END\n",
    "AND DATEPART('month', [Order Date]) <= DATEPART('month', TODAY())\n",
    "THEN SUM([Sales])\n",
    "END\n",
    "\n",
    "\n",
    "YTD LY Sales (Financial Year April Start):\n",
    "IF DATEPART('year', [Order Date]) = IF DATEPART('month', [Order Date]) >= 4 THEN DATEPART('year', DATEADD('year', -1, TODAY())) ELSE DATEPART('year', DATEADD('year', -1, TODAY())) - 1 END\n",
    "AND DATEPART('month', [Order Date]) <= DATEPART('month', DATEADD('year', -1, TODAY()))\n",
    "THEN SUM([Sales])\n",
    "END\n",
    "\n",
    "\n",
    "YoY Growth (Financial Year April Start):\n",
    "(SUM([YTD Sales (Financial Year April Start)]) / SUM([YTD LY Sales (Financial Year April Start)])) – 1"
   ]
  },
  {
   "cell_type": "markdown",
   "id": "049852bd-9640-4a90-bcd9-dbc781276adb",
   "metadata": {},
   "source": [
    "---"
   ]
  },
  {
   "cell_type": "markdown",
   "id": "a9f562a4-9f34-437b-92af-aa72b4ea1c7f",
   "metadata": {},
   "source": [
    "#### **3. Create a chart/table which shows only the top Sub-Category within each category (the top sub-category should dynamically change based on the selection)**"
   ]
  },
  {
   "cell_type": "raw",
   "id": "582c2d5a-0c45-4de7-b7bf-bfe7955847f3",
   "metadata": {},
   "source": [
    "Solution as in PDF"
   ]
  },
  {
   "cell_type": "markdown",
   "id": "9b9ee07e-b382-4f4d-8db7-08e740a45fbc",
   "metadata": {},
   "source": [
    "#### **4. Write a formula to compute Target Achievement % (= Total Sales / Target). Target to be taken as user input and dashboard should allow user to change the target**"
   ]
  },
  {
   "cell_type": "raw",
   "id": "498bffc6-430e-405b-b6bc-fb35e0165e99",
   "metadata": {},
   "source": [
    "Target Achievement % :\n",
    "SUM([Sales]) / [Target Parameter]"
   ]
  },
  {
   "cell_type": "markdown",
   "id": "a77e1fe0-6350-4cd4-abe0-19a9e0e1a0f5",
   "metadata": {},
   "source": [
    "#### **5. Create a bar chart**\n",
    "* With month as X-axis,\n",
    "* For Y-axis, the chart should show either Sales or Quantity column depending on what the user wants to see, \n",
    "* In the tooltip of each bar show the Top 5 Product Names for the month based onTarget Achievement % :\n",
    "SUM([Sales]) / [Target Parameter]"
   ]
  },
  {
   "cell_type": "markdown",
   "id": "9a137754-05c2-4477-abe8-42af58e6a033",
   "metadata": {},
   "source": [
    "Solution as in PDF"
   ]
  },
  {
   "cell_type": "markdown",
   "id": "5e9b774a-b516-431d-931c-cfc8e2f71534",
   "metadata": {},
   "source": [
    "#### **6. Categorize the customers into Score between 1 to 4 based on the Total Sales value of the customer in the entire data**\n",
    "* Bottom 25% customers – Score =1\n",
    "* Next 25% customers – Score =2\n",
    "* Next 25% customers – Score =3\n",
    "* Top 25% customers – Score =4\n"
   ]
  },
  {
   "cell_type": "raw",
   "id": "edb91ae8-12d1-48ee-9a39-54ac78743df6",
   "metadata": {},
   "source": [
    "WINDOW_SUM(SUM([Sales]))\n",
    "\n",
    "Customer Score:\n",
    "CASE\n",
    "  WHEN RANK_UNIQUE([Total Sales], 'asc') / TOTAL(countd([Customer ID])) <= 0.25 THEN 1\n",
    "  WHEN RANK_UNIQUE([Total Sales], 'asc') / TOTAL(countd([Customer ID])) <= 0.50 THEN 2\n",
    "  WHEN RANK_UNIQUE([Total Sales], 'asc') / TOTAL(countd([Customer ID])) <= 0.75 THEN 3\n",
    "  ELSE 4\n",
    "END"
   ]
  },
  {
   "cell_type": "markdown",
   "id": "26ee3628-8c39-4e02-b508-1781c65dc539",
   "metadata": {},
   "source": [
    "---"
   ]
  },
  {
   "cell_type": "markdown",
   "id": "3eb25a03-aa48-43dd-880b-e61c9efcdecf",
   "metadata": {},
   "source": [
    "As I'm using Tableau Public, and the above formulas are caluated in [Analysis => Create Calculated Field]  and in Chart chaning with input, I used KPI for Dynamic.\n",
    "\n",
    "And the result. Is provided in PDF."
   ]
  },
  {
   "cell_type": "code",
   "execution_count": 1,
   "id": "11e08ba9-3670-4974-9373-4acecb04054d",
   "metadata": {},
   "outputs": [
    {
     "data": {
      "text/plain": [
       "'Done ...'"
      ]
     },
     "execution_count": 1,
     "metadata": {},
     "output_type": "execute_result"
    }
   ],
   "source": [
    "'Done ...'"
   ]
  }
 ],
 "metadata": {
  "kernelspec": {
   "display_name": "Python 3 (ipykernel)",
   "language": "python",
   "name": "python3"
  },
  "language_info": {
   "codemirror_mode": {
    "name": "ipython",
    "version": 3
   },
   "file_extension": ".py",
   "mimetype": "text/x-python",
   "name": "python",
   "nbconvert_exporter": "python",
   "pygments_lexer": "ipython3",
   "version": "3.10.9"
  }
 },
 "nbformat": 4,
 "nbformat_minor": 5
}
