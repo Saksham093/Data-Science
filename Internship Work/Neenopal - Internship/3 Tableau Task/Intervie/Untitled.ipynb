{
 "cells": [
  {
   "cell_type": "code",
   "execution_count": 2,
   "id": "82c21251-23e7-44b4-8643-f6415563914b",
   "metadata": {},
   "outputs": [],
   "source": [
    "# sin curve\n",
    "\n",
    "import matplotlib.pyplot as plt"
   ]
  },
  {
   "cell_type": "code",
   "execution_count": null,
   "id": "4dd2b436-2f58-4a69-b78c-758ac5a57bc0",
   "metadata": {},
   "outputs": [],
   "source": [
    "plt.figure(figsize=(10, 10))\n",
    "plt."
   ]
  },
  {
   "cell_type": "code",
   "execution_count": null,
   "id": "917ae90f-4dda-409d-a275-76e72a42691e",
   "metadata": {},
   "outputs": [],
   "source": [
    "n = 1\n",
    "\n",
    "def fab(n):\n",
    "    if n == 0:\n",
    "    return 1\n",
    "\telse:\n",
    "\n",
    "    "
   ]
  },
  {
   "cell_type": "code",
   "execution_count": 4,
   "id": "16ce46d0-3440-4eb7-84e1-b64824b32416",
   "metadata": {},
   "outputs": [
    {
     "name": "stdout",
     "output_type": "stream",
     "text": [
      "0\n",
      "1\n",
      "3\n",
      "6\n",
      "10\n",
      "15\n",
      "21\n",
      "28\n",
      "36\n",
      "45\n",
      "55\n"
     ]
    }
   ],
   "source": [
    "m = 0\n",
    "for i in range(11):\n",
    "    m += i\n",
    "    print(m)"
   ]
  },
  {
   "cell_type": "code",
   "execution_count": null,
   "id": "8e927c68-1135-4abf-b866-18eb9ba8b2ef",
   "metadata": {},
   "outputs": [],
   "source": [
    "n = 0\n",
    "m = 1\n",
    "\n",
    "for i in range(11):\n",
    "    print()"
   ]
  },
  {
   "cell_type": "code",
   "execution_count": 15,
   "id": "cb85fa81-46e8-4660-830c-d3669d5a11c2",
   "metadata": {},
   "outputs": [],
   "source": [
    "def pal(s):\n",
    "    r = s[::-1]\n",
    "    if s == r:\n",
    "        return True\n",
    "    else:\n",
    "        return False\n",
    "    "
   ]
  },
  {
   "cell_type": "code",
   "execution_count": 18,
   "id": "4215efa0-c461-4590-a22f-f73d976a3a3e",
   "metadata": {},
   "outputs": [
    {
     "data": {
      "text/plain": [
       "True"
      ]
     },
     "execution_count": 18,
     "metadata": {},
     "output_type": "execute_result"
    }
   ],
   "source": [
    "s = 'aabbaa'\n",
    "\n",
    "pal(s)"
   ]
  },
  {
   "cell_type": "code",
   "execution_count": null,
   "id": "6463ec16-a12e-4338-aaf4-3791b3d77679",
   "metadata": {},
   "outputs": [],
   "source": [
    "# strudent, marks\n",
    "\n",
    "Select max(marks), min(marks) from table;"
   ]
  },
  {
   "cell_type": "code",
   "execution_count": null,
   "id": "dba3edbb-fa23-4ef5-8f6c-f225381526e9",
   "metadata": {},
   "outputs": [],
   "source": [
    "98,20"
   ]
  }
 ],
 "metadata": {
  "kernelspec": {
   "display_name": "Python 3 (ipykernel)",
   "language": "python",
   "name": "python3"
  },
  "language_info": {
   "codemirror_mode": {
    "name": "ipython",
    "version": 3
   },
   "file_extension": ".py",
   "mimetype": "text/x-python",
   "name": "python",
   "nbconvert_exporter": "python",
   "pygments_lexer": "ipython3",
   "version": "3.10.9"
  }
 },
 "nbformat": 4,
 "nbformat_minor": 5
}
