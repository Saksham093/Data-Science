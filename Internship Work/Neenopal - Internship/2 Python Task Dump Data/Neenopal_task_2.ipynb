{
 "cells": [
  {
   "cell_type": "markdown",
   "metadata": {
    "id": "rKCBIO9DS8Vo"
   },
   "source": [
    "Task 2"
   ]
  },
  {
   "cell_type": "code",
   "execution_count": null,
   "metadata": {
    "colab": {
     "base_uri": "https://localhost:8080/"
    },
    "id": "M6Hd687OTFCO",
    "outputId": "d409e98a-9766-469d-fe5f-58f0772acfca"
   },
   "outputs": [
    {
     "name": "stdout",
     "output_type": "stream",
     "text": [
      "Requirement already satisfied: mysql-connector-python in /usr/local/lib/python3.10/dist-packages (8.1.0)\n",
      "Requirement already satisfied: protobuf<=4.21.12,>=4.21.1 in /usr/local/lib/python3.10/dist-packages (from mysql-connector-python) (4.21.12)\n",
      "Requirement already satisfied: pymysql in /usr/local/lib/python3.10/dist-packages (1.1.0)\n",
      "Requirement already satisfied: sqlalchemy in /usr/local/lib/python3.10/dist-packages (2.0.19)\n",
      "Requirement already satisfied: retrying in /usr/local/lib/python3.10/dist-packages (1.3.4)\n",
      "Requirement already satisfied: typing-extensions>=4.2.0 in /usr/local/lib/python3.10/dist-packages (from sqlalchemy) (4.7.1)\n",
      "Requirement already satisfied: greenlet!=0.4.17 in /usr/local/lib/python3.10/dist-packages (from sqlalchemy) (2.0.2)\n",
      "Requirement already satisfied: six>=1.7.0 in /usr/local/lib/python3.10/dist-packages (from retrying) (1.16.0)\n"
     ]
    }
   ],
   "source": [
    "# downloading libraries\n",
    "!pip install mysql-connector-python\n",
    "!pip install pymysql sqlalchemy retrying\n",
    "# import libraries\n",
    "import pandas as pd\n",
    "import warnings\n",
    "warnings.filterwarnings(\"ignore\")\n",
    "import mysql.connector\n",
    "from numpy import short\n",
    "import pymysql\n",
    "from sqlalchemy import create_engine\n",
    "from retrying import retry\n"
   ]
  },
  {
   "cell_type": "markdown",
   "metadata": {
    "id": "_59-xFkNS-9C"
   },
   "source": [
    "1.\tRead the csv or excel file."
   ]
  },
  {
   "cell_type": "code",
   "execution_count": null,
   "metadata": {
    "id": "t5McnHe3Swv8"
   },
   "outputs": [],
   "source": [
    "data = pd.read_csv(\"/content/used_bikes.csv\")"
   ]
  },
  {
   "cell_type": "code",
   "execution_count": null,
   "metadata": {
    "colab": {
     "base_uri": "https://localhost:8080/"
    },
    "id": "SBuIKifGT07L",
    "outputId": "fd1ddf2d-6e02-4746-9f31-c0df2b4ca6cd"
   },
   "outputs": [
    {
     "data": {
      "text/plain": [
       "Index           128\n",
       "bike_name     11954\n",
       "price          1192\n",
       "city           9546\n",
       "kms_driven     1192\n",
       "owner         10144\n",
       "age            1192\n",
       "power          1192\n",
       "brand          9517\n",
       "dtype: int64"
      ]
     },
     "execution_count": 3,
     "metadata": {},
     "output_type": "execute_result"
    }
   ],
   "source": [
    "# memory info\n",
    "data.memory_usage(deep=True)"
   ]
  },
  {
   "cell_type": "code",
   "execution_count": null,
   "metadata": {
    "id": "pygBhOFWceW-"
   },
   "outputs": [],
   "source": [
    "memory_before = data.memory_usage(deep=True).sum()"
   ]
  },
  {
   "cell_type": "code",
   "execution_count": null,
   "metadata": {
    "colab": {
     "base_uri": "https://localhost:8080/",
     "height": 434
    },
    "id": "wDvEZdySUr4N",
    "outputId": "28fd70d2-d2c4-48a3-c59c-962601e8eac6"
   },
   "outputs": [
    {
     "data": {
      "text/html": [
       "\n",
       "\n",
       "  <div id=\"df-1cec7bb7-7d12-4c6b-8a75-4612a47cebc2\">\n",
       "    <div class=\"colab-df-container\">\n",
       "      <div>\n",
       "<style scoped>\n",
       "    .dataframe tbody tr th:only-of-type {\n",
       "        vertical-align: middle;\n",
       "    }\n",
       "\n",
       "    .dataframe tbody tr th {\n",
       "        vertical-align: top;\n",
       "    }\n",
       "\n",
       "    .dataframe thead th {\n",
       "        text-align: right;\n",
       "    }\n",
       "</style>\n",
       "<table border=\"1\" class=\"dataframe\">\n",
       "  <thead>\n",
       "    <tr style=\"text-align: right;\">\n",
       "      <th></th>\n",
       "      <th>bike_name</th>\n",
       "      <th>price</th>\n",
       "      <th>city</th>\n",
       "      <th>kms_driven</th>\n",
       "      <th>owner</th>\n",
       "      <th>age</th>\n",
       "      <th>power</th>\n",
       "      <th>brand</th>\n",
       "    </tr>\n",
       "  </thead>\n",
       "  <tbody>\n",
       "    <tr>\n",
       "      <th>49</th>\n",
       "      <td>Suzuki Gixxer SF Fi 150cc SP ABS</td>\n",
       "      <td>97000.0</td>\n",
       "      <td>Delhi</td>\n",
       "      <td>4400.0</td>\n",
       "      <td>First Owner</td>\n",
       "      <td>3.0</td>\n",
       "      <td>150.0</td>\n",
       "      <td>Suzuki</td>\n",
       "    </tr>\n",
       "    <tr>\n",
       "      <th>88</th>\n",
       "      <td>Yamaha FZ16 150cc</td>\n",
       "      <td>50000.0</td>\n",
       "      <td>Bangalore</td>\n",
       "      <td>19000.0</td>\n",
       "      <td>First Owner</td>\n",
       "      <td>6.0</td>\n",
       "      <td>150.0</td>\n",
       "      <td>Yamaha</td>\n",
       "    </tr>\n",
       "    <tr>\n",
       "      <th>73</th>\n",
       "      <td>Royal Enfield Thunderbird X 350cc</td>\n",
       "      <td>150000.0</td>\n",
       "      <td>Bangalore</td>\n",
       "      <td>15000.0</td>\n",
       "      <td>First Owner</td>\n",
       "      <td>3.0</td>\n",
       "      <td>350.0</td>\n",
       "      <td>Royal Enfield</td>\n",
       "    </tr>\n",
       "    <tr>\n",
       "      <th>5</th>\n",
       "      <td>Yamaha FZs 150cc</td>\n",
       "      <td>53499.0</td>\n",
       "      <td>Delhi</td>\n",
       "      <td>25000.0</td>\n",
       "      <td>First Owner</td>\n",
       "      <td>6.0</td>\n",
       "      <td>150.0</td>\n",
       "      <td>Yamaha</td>\n",
       "    </tr>\n",
       "    <tr>\n",
       "      <th>77</th>\n",
       "      <td>Royal Enfield Thunderbird 350cc</td>\n",
       "      <td>115000.0</td>\n",
       "      <td>Bangalore</td>\n",
       "      <td>23700.0</td>\n",
       "      <td>First Owner</td>\n",
       "      <td>4.0</td>\n",
       "      <td>350.0</td>\n",
       "      <td>Royal Enfield</td>\n",
       "    </tr>\n",
       "    <tr>\n",
       "      <th>74</th>\n",
       "      <td>Hero Karizma ZMR 223cc</td>\n",
       "      <td>55786.0</td>\n",
       "      <td>Surat</td>\n",
       "      <td>68000.0</td>\n",
       "      <td>Second Owner</td>\n",
       "      <td>7.0</td>\n",
       "      <td>223.0</td>\n",
       "      <td>Hero</td>\n",
       "    </tr>\n",
       "    <tr>\n",
       "      <th>148</th>\n",
       "      <td>Yamaha YZF-R15 V3 150cc</td>\n",
       "      <td>140000.0</td>\n",
       "      <td>Delhi</td>\n",
       "      <td>2473.0</td>\n",
       "      <td>First Owner</td>\n",
       "      <td>2.0</td>\n",
       "      <td>150.0</td>\n",
       "      <td>Yamaha</td>\n",
       "    </tr>\n",
       "  </tbody>\n",
       "</table>\n",
       "</div>\n",
       "      <button class=\"colab-df-convert\" onclick=\"convertToInteractive('df-1cec7bb7-7d12-4c6b-8a75-4612a47cebc2')\"\n",
       "              title=\"Convert this dataframe to an interactive table.\"\n",
       "              style=\"display:none;\">\n",
       "\n",
       "  <svg xmlns=\"http://www.w3.org/2000/svg\" height=\"24px\"viewBox=\"0 0 24 24\"\n",
       "       width=\"24px\">\n",
       "    <path d=\"M0 0h24v24H0V0z\" fill=\"none\"/>\n",
       "    <path d=\"M18.56 5.44l.94 2.06.94-2.06 2.06-.94-2.06-.94-.94-2.06-.94 2.06-2.06.94zm-11 1L8.5 8.5l.94-2.06 2.06-.94-2.06-.94L8.5 2.5l-.94 2.06-2.06.94zm10 10l.94 2.06.94-2.06 2.06-.94-2.06-.94-.94-2.06-.94 2.06-2.06.94z\"/><path d=\"M17.41 7.96l-1.37-1.37c-.4-.4-.92-.59-1.43-.59-.52 0-1.04.2-1.43.59L10.3 9.45l-7.72 7.72c-.78.78-.78 2.05 0 2.83L4 21.41c.39.39.9.59 1.41.59.51 0 1.02-.2 1.41-.59l7.78-7.78 2.81-2.81c.8-.78.8-2.07 0-2.86zM5.41 20L4 18.59l7.72-7.72 1.47 1.35L5.41 20z\"/>\n",
       "  </svg>\n",
       "      </button>\n",
       "\n",
       "\n",
       "\n",
       "    <div id=\"df-b7cdaeac-db69-461a-a4df-c30adc190b16\">\n",
       "      <button class=\"colab-df-quickchart\" onclick=\"quickchart('df-b7cdaeac-db69-461a-a4df-c30adc190b16')\"\n",
       "              title=\"Suggest charts.\"\n",
       "              style=\"display:none;\">\n",
       "\n",
       "<svg xmlns=\"http://www.w3.org/2000/svg\" height=\"24px\"viewBox=\"0 0 24 24\"\n",
       "     width=\"24px\">\n",
       "    <g>\n",
       "        <path d=\"M19 3H5c-1.1 0-2 .9-2 2v14c0 1.1.9 2 2 2h14c1.1 0 2-.9 2-2V5c0-1.1-.9-2-2-2zM9 17H7v-7h2v7zm4 0h-2V7h2v10zm4 0h-2v-4h2v4z\"/>\n",
       "    </g>\n",
       "</svg>\n",
       "      </button>\n",
       "    </div>\n",
       "\n",
       "<style>\n",
       "  .colab-df-quickchart {\n",
       "    background-color: #E8F0FE;\n",
       "    border: none;\n",
       "    border-radius: 50%;\n",
       "    cursor: pointer;\n",
       "    display: none;\n",
       "    fill: #1967D2;\n",
       "    height: 32px;\n",
       "    padding: 0 0 0 0;\n",
       "    width: 32px;\n",
       "  }\n",
       "\n",
       "  .colab-df-quickchart:hover {\n",
       "    background-color: #E2EBFA;\n",
       "    box-shadow: 0px 1px 2px rgba(60, 64, 67, 0.3), 0px 1px 3px 1px rgba(60, 64, 67, 0.15);\n",
       "    fill: #174EA6;\n",
       "  }\n",
       "\n",
       "  [theme=dark] .colab-df-quickchart {\n",
       "    background-color: #3B4455;\n",
       "    fill: #D2E3FC;\n",
       "  }\n",
       "\n",
       "  [theme=dark] .colab-df-quickchart:hover {\n",
       "    background-color: #434B5C;\n",
       "    box-shadow: 0px 1px 3px 1px rgba(0, 0, 0, 0.15);\n",
       "    filter: drop-shadow(0px 1px 2px rgba(0, 0, 0, 0.3));\n",
       "    fill: #FFFFFF;\n",
       "  }\n",
       "</style>\n",
       "\n",
       "    <script>\n",
       "      async function quickchart(key) {\n",
       "        const containerElement = document.querySelector('#' + key);\n",
       "        const charts = await google.colab.kernel.invokeFunction(\n",
       "            'suggestCharts', [key], {});\n",
       "      }\n",
       "    </script>\n",
       "\n",
       "      <script>\n",
       "\n",
       "function displayQuickchartButton(domScope) {\n",
       "  let quickchartButtonEl =\n",
       "    domScope.querySelector('#df-b7cdaeac-db69-461a-a4df-c30adc190b16 button.colab-df-quickchart');\n",
       "  quickchartButtonEl.style.display =\n",
       "    google.colab.kernel.accessAllowed ? 'block' : 'none';\n",
       "}\n",
       "\n",
       "        displayQuickchartButton(document);\n",
       "      </script>\n",
       "      <style>\n",
       "    .colab-df-container {\n",
       "      display:flex;\n",
       "      flex-wrap:wrap;\n",
       "      gap: 12px;\n",
       "    }\n",
       "\n",
       "    .colab-df-convert {\n",
       "      background-color: #E8F0FE;\n",
       "      border: none;\n",
       "      border-radius: 50%;\n",
       "      cursor: pointer;\n",
       "      display: none;\n",
       "      fill: #1967D2;\n",
       "      height: 32px;\n",
       "      padding: 0 0 0 0;\n",
       "      width: 32px;\n",
       "    }\n",
       "\n",
       "    .colab-df-convert:hover {\n",
       "      background-color: #E2EBFA;\n",
       "      box-shadow: 0px 1px 2px rgba(60, 64, 67, 0.3), 0px 1px 3px 1px rgba(60, 64, 67, 0.15);\n",
       "      fill: #174EA6;\n",
       "    }\n",
       "\n",
       "    [theme=dark] .colab-df-convert {\n",
       "      background-color: #3B4455;\n",
       "      fill: #D2E3FC;\n",
       "    }\n",
       "\n",
       "    [theme=dark] .colab-df-convert:hover {\n",
       "      background-color: #434B5C;\n",
       "      box-shadow: 0px 1px 3px 1px rgba(0, 0, 0, 0.15);\n",
       "      filter: drop-shadow(0px 1px 2px rgba(0, 0, 0, 0.3));\n",
       "      fill: #FFFFFF;\n",
       "    }\n",
       "  </style>\n",
       "\n",
       "      <script>\n",
       "        const buttonEl =\n",
       "          document.querySelector('#df-1cec7bb7-7d12-4c6b-8a75-4612a47cebc2 button.colab-df-convert');\n",
       "        buttonEl.style.display =\n",
       "          google.colab.kernel.accessAllowed ? 'block' : 'none';\n",
       "\n",
       "        async function convertToInteractive(key) {\n",
       "          const element = document.querySelector('#df-1cec7bb7-7d12-4c6b-8a75-4612a47cebc2');\n",
       "          const dataTable =\n",
       "            await google.colab.kernel.invokeFunction('convertToInteractive',\n",
       "                                                     [key], {});\n",
       "          if (!dataTable) return;\n",
       "\n",
       "          const docLinkHtml = 'Like what you see? Visit the ' +\n",
       "            '<a target=\"_blank\" href=https://colab.research.google.com/notebooks/data_table.ipynb>data table notebook</a>'\n",
       "            + ' to learn more about interactive tables.';\n",
       "          element.innerHTML = '';\n",
       "          dataTable['output_type'] = 'display_data';\n",
       "          await google.colab.output.renderOutput(dataTable, element);\n",
       "          const docLink = document.createElement('div');\n",
       "          docLink.innerHTML = docLinkHtml;\n",
       "          element.appendChild(docLink);\n",
       "        }\n",
       "      </script>\n",
       "    </div>\n",
       "  </div>\n"
      ],
      "text/plain": [
       "                             bike_name     price       city  kms_driven  \\\n",
       "49    Suzuki Gixxer SF Fi 150cc SP ABS   97000.0      Delhi      4400.0   \n",
       "88                   Yamaha FZ16 150cc   50000.0  Bangalore     19000.0   \n",
       "73   Royal Enfield Thunderbird X 350cc  150000.0  Bangalore     15000.0   \n",
       "5                     Yamaha FZs 150cc   53499.0      Delhi     25000.0   \n",
       "77     Royal Enfield Thunderbird 350cc  115000.0  Bangalore     23700.0   \n",
       "74              Hero Karizma ZMR 223cc   55786.0      Surat     68000.0   \n",
       "148            Yamaha YZF-R15 V3 150cc  140000.0      Delhi      2473.0   \n",
       "\n",
       "            owner  age  power          brand  \n",
       "49    First Owner  3.0  150.0         Suzuki  \n",
       "88    First Owner  6.0  150.0         Yamaha  \n",
       "73    First Owner  3.0  350.0  Royal Enfield  \n",
       "5     First Owner  6.0  150.0         Yamaha  \n",
       "77    First Owner  4.0  350.0  Royal Enfield  \n",
       "74   Second Owner  7.0  223.0           Hero  \n",
       "148   First Owner  2.0  150.0         Yamaha  "
      ]
     },
     "execution_count": 5,
     "metadata": {},
     "output_type": "execute_result"
    }
   ],
   "source": [
    "# lets have a look at the data ...\n",
    "data.sample(7)"
   ]
  },
  {
   "cell_type": "markdown",
   "metadata": {
    "id": "VY58HTI5cUyS"
   },
   "source": [
    "2.\tChange the datatypes of the column and check the memory usage before and after the change in the data types."
   ]
  },
  {
   "cell_type": "code",
   "execution_count": null,
   "metadata": {
    "colab": {
     "base_uri": "https://localhost:8080/"
    },
    "id": "_E-jvYCUVAB6",
    "outputId": "388e1fd1-0d0e-43c7-f246-12e75830a9b9"
   },
   "outputs": [
    {
     "name": "stdout",
     "output_type": "stream",
     "text": [
      "age:\n",
      "16.0\n",
      "power :\n",
      "1299.0\n",
      "price: \n",
      "1350000.0\n",
      "kms_driven:\n",
      "357000.0\n"
     ]
    }
   ],
   "source": [
    "# lets see maximum values so we can reduced data types\n",
    "print(\"age:\",data[\"age\"].max(),\"power :\",data.power.max(),\"price: \",data.price.max(),\"kms_driven:\",data.kms_driven.max(),sep=\"\\n\")"
   ]
  },
  {
   "cell_type": "code",
   "execution_count": null,
   "metadata": {
    "colab": {
     "base_uri": "https://localhost:8080/"
    },
    "id": "ovcwKYXxVcrH",
    "outputId": "7789ed5d-25a0-4135-e01d-b12d5dbb237e"
   },
   "outputs": [
    {
     "data": {
      "text/plain": [
       "bike_name      object\n",
       "price         float64\n",
       "city           object\n",
       "kms_driven    float64\n",
       "owner          object\n",
       "age           float64\n",
       "power         float64\n",
       "brand          object\n",
       "dtype: object"
      ]
     },
     "execution_count": 7,
     "metadata": {},
     "output_type": "execute_result"
    }
   ],
   "source": [
    "# lets see there current data types...\n",
    "data.dtypes"
   ]
  },
  {
   "cell_type": "code",
   "execution_count": null,
   "metadata": {
    "colab": {
     "base_uri": "https://localhost:8080/"
    },
    "id": "lPDZTv5mV2f_",
    "outputId": "6c29eca0-1046-401e-9d86-3a808f1a9bf8"
   },
   "outputs": [
    {
     "data": {
      "text/plain": [
       "bike_name      object\n",
       "price         float64\n",
       "city           object\n",
       "kms_driven    float64\n",
       "owner          object\n",
       "age              |S32\n",
       "power           int16\n",
       "brand          object\n",
       "dtype: object"
      ]
     },
     "execution_count": 8,
     "metadata": {},
     "output_type": "execute_result"
    }
   ],
   "source": [
    "# convert age to byte and power to short\n",
    "convert = {'age':bytes,'power':short}\n",
    "data = data.astype(convert)\n",
    "data.dtypes"
   ]
  },
  {
   "cell_type": "code",
   "execution_count": null,
   "metadata": {
    "colab": {
     "base_uri": "https://localhost:8080/"
    },
    "id": "whCxTvxzXs7t",
    "outputId": "470ed2bd-3218-4626-cc44-703c23f9729d"
   },
   "outputs": [
    {
     "name": "stdout",
     "output_type": "stream",
     "text": [
      "Memory reduced =  2682\n"
     ]
    }
   ],
   "source": [
    "# check memory usage\n",
    "print(\"Memory reduced = \",abs(memory_before-data.memory_usage(deep=True).sum()))"
   ]
  },
  {
   "cell_type": "code",
   "execution_count": null,
   "metadata": {
    "id": "LCcMj0-sZHGW"
   },
   "outputs": [],
   "source": [
    "# we can reduce this further by several methods like ---\n",
    "\n",
    "# 1. by removing brand name from bike name\n",
    "\n",
    "# 2. by using abbreviations for cities like del for delhi\n",
    "\n",
    "# 3. encoding owners"
   ]
  },
  {
   "cell_type": "code",
   "execution_count": null,
   "metadata": {
    "id": "SdnYbepGroB_"
   },
   "outputs": [],
   "source": [
    "data.to_csv(\"now.csv\",index=False)"
   ]
  },
  {
   "cell_type": "markdown",
   "metadata": {
    "id": "wndsY8NFSog-"
   },
   "source": [
    "3.\tDump the data into the mysql database.\n",
    "\n",
    "\n",
    "4.\tindex the column after the data is inserted.\n"
   ]
  },
  {
   "cell_type": "code",
   "execution_count": null,
   "metadata": {
    "id": "DyZOeyNAqmzZ"
   },
   "outputs": [],
   "source": [
    "# sql connect...\n",
    "mydb = mysql.connector.connect(\n",
    "    host=\"localhost\",\n",
    "    user=\"root\",\n",
    "    password=\"Emmabhi@15\",\n",
    "    database=\"neenopal\"\n",
    ")\n",
    "\n",
    "cursor = mydb.cursor()\n",
    "\n",
    "# Create Database neenopal...\n",
    "cursor.execute(\"CREATE DATABASE neenopal\")\n",
    "\n",
    "# Create Table used_bikes...\n",
    "cursor.execute(\"create table used_bikes(bike_name varchar(50),\"\n",
    "               \"price float8,\"\n",
    "               \"city varchar(20),\"\n",
    "               \"kms_driven float8,\"\n",
    "               \"owner varchar(20),\"\n",
    "               \"age int,power int,\"\n",
    "               \"brand varchar(20))\")\n",
    "\n",
    "\n",
    "table_name = 'used_bikes'\n",
    "column_name = 'bike_name'\n",
    "\n",
    "\n",
    "cursor.execute(f\"SHOW INDEX FROM {table_name} WHERE Key_name='idx_{column_name}'\")\n",
    "index_exists = cursor.fetchall()\n",
    "\n",
    "# drop index\n",
    "if index_exists:\n",
    "    cursor.execute(f\"DROP INDEX idx_{column_name} ON {table_name}\")\n",
    "\n",
    "# inserting data\n",
    "data_tuples = [tuple(row) for row in data.values]\n",
    "\n",
    "\n",
    "sql_insert = f\"INSERT INTO {table_name} (bike_name, price, city, kms_driven, owner, age, power, brand) VALUES (%s, \" \\\n",
    "             f\"%s, %s, %s, %s, %s, %s, %s) \"\n",
    "\n",
    "\n",
    "cursor.executemany(sql_insert, data_tuples)\n",
    "\n",
    "# inserting index\n",
    "cursor.execute(f\"CREATE INDEX idx_{column_name} ON {table_name}({column_name})\")\n",
    "cursor.close()\n",
    "mydb.close()"
   ]
  }
 ],
 "metadata": {
  "colab": {
   "provenance": []
  },
  "kernelspec": {
   "display_name": "Python 3 (ipykernel)",
   "language": "python",
   "name": "python3"
  },
  "language_info": {
   "codemirror_mode": {
    "name": "ipython",
    "version": 3
   },
   "file_extension": ".py",
   "mimetype": "text/x-python",
   "name": "python",
   "nbconvert_exporter": "python",
   "pygments_lexer": "ipython3",
   "version": "3.10.9"
  }
 },
 "nbformat": 4,
 "nbformat_minor": 4
}
