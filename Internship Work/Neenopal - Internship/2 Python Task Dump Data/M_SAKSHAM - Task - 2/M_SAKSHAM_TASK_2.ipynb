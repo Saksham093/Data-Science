{
 "cells": [
  {
   "cell_type": "markdown",
   "id": "2ee2f818-6fc7-4d94-bf04-3ce6a43d0dba",
   "metadata": {},
   "source": [
    "# **Task 2**"
   ]
  },
  {
   "cell_type": "code",
   "execution_count": 1,
   "id": "cea51199-5ce7-4022-a8d2-f33f90152cbd",
   "metadata": {},
   "outputs": [],
   "source": [
    "import numpy as np\n",
    "import pandas as pd\n",
    "from sklearn import preprocessing\n",
    "\n",
    "import warnings\n",
    "warnings.filterwarnings(\"ignore\")\n",
    "\n",
    "import mysql.connector "
   ]
  },
  {
   "cell_type": "markdown",
   "id": "96f4e89f-45ee-4977-9cae-744202372ed1",
   "metadata": {},
   "source": [
    "### **1. Read the csv or excel file.**"
   ]
  },
  {
   "cell_type": "code",
   "execution_count": 2,
   "id": "f4f0a437-2ca6-4d6b-a221-ec5dfa5fa8b2",
   "metadata": {},
   "outputs": [
    {
     "data": {
      "text/html": [
       "<div>\n",
       "<style scoped>\n",
       "    .dataframe tbody tr th:only-of-type {\n",
       "        vertical-align: middle;\n",
       "    }\n",
       "\n",
       "    .dataframe tbody tr th {\n",
       "        vertical-align: top;\n",
       "    }\n",
       "\n",
       "    .dataframe thead th {\n",
       "        text-align: right;\n",
       "    }\n",
       "</style>\n",
       "<table border=\"1\" class=\"dataframe\">\n",
       "  <thead>\n",
       "    <tr style=\"text-align: right;\">\n",
       "      <th></th>\n",
       "      <th>bike_name</th>\n",
       "      <th>price</th>\n",
       "      <th>city</th>\n",
       "      <th>kms_driven</th>\n",
       "      <th>owner</th>\n",
       "      <th>age</th>\n",
       "      <th>power</th>\n",
       "      <th>brand</th>\n",
       "    </tr>\n",
       "  </thead>\n",
       "  <tbody>\n",
       "    <tr>\n",
       "      <th>0</th>\n",
       "      <td>TVS Star City Plus Dual Tone 110cc</td>\n",
       "      <td>35000.0</td>\n",
       "      <td>Ahmedabad</td>\n",
       "      <td>17654.0</td>\n",
       "      <td>First Owner</td>\n",
       "      <td>3.0</td>\n",
       "      <td>110.0</td>\n",
       "      <td>TVS</td>\n",
       "    </tr>\n",
       "    <tr>\n",
       "      <th>1</th>\n",
       "      <td>Royal Enfield Classic 350cc</td>\n",
       "      <td>119900.0</td>\n",
       "      <td>Delhi</td>\n",
       "      <td>11000.0</td>\n",
       "      <td>First Owner</td>\n",
       "      <td>4.0</td>\n",
       "      <td>350.0</td>\n",
       "      <td>Royal Enfield</td>\n",
       "    </tr>\n",
       "    <tr>\n",
       "      <th>2</th>\n",
       "      <td>Triumph Daytona 675R</td>\n",
       "      <td>600000.0</td>\n",
       "      <td>Delhi</td>\n",
       "      <td>110.0</td>\n",
       "      <td>First Owner</td>\n",
       "      <td>8.0</td>\n",
       "      <td>675.0</td>\n",
       "      <td>Triumph</td>\n",
       "    </tr>\n",
       "    <tr>\n",
       "      <th>3</th>\n",
       "      <td>TVS Apache RTR 180cc</td>\n",
       "      <td>65000.0</td>\n",
       "      <td>Bangalore</td>\n",
       "      <td>16329.0</td>\n",
       "      <td>First Owner</td>\n",
       "      <td>4.0</td>\n",
       "      <td>180.0</td>\n",
       "      <td>TVS</td>\n",
       "    </tr>\n",
       "    <tr>\n",
       "      <th>4</th>\n",
       "      <td>Yamaha FZ S V 2.0 150cc-Ltd. Edition</td>\n",
       "      <td>80000.0</td>\n",
       "      <td>Bangalore</td>\n",
       "      <td>10000.0</td>\n",
       "      <td>First Owner</td>\n",
       "      <td>3.0</td>\n",
       "      <td>150.0</td>\n",
       "      <td>Yamaha</td>\n",
       "    </tr>\n",
       "  </tbody>\n",
       "</table>\n",
       "</div>"
      ],
      "text/plain": [
       "                              bike_name     price       city  kms_driven  \\\n",
       "0    TVS Star City Plus Dual Tone 110cc   35000.0  Ahmedabad     17654.0   \n",
       "1           Royal Enfield Classic 350cc  119900.0      Delhi     11000.0   \n",
       "2                  Triumph Daytona 675R  600000.0      Delhi       110.0   \n",
       "3                  TVS Apache RTR 180cc   65000.0  Bangalore     16329.0   \n",
       "4  Yamaha FZ S V 2.0 150cc-Ltd. Edition   80000.0  Bangalore     10000.0   \n",
       "\n",
       "         owner  age  power          brand  \n",
       "0  First Owner  3.0  110.0            TVS  \n",
       "1  First Owner  4.0  350.0  Royal Enfield  \n",
       "2  First Owner  8.0  675.0        Triumph  \n",
       "3  First Owner  4.0  180.0            TVS  \n",
       "4  First Owner  3.0  150.0         Yamaha  "
      ]
     },
     "execution_count": 2,
     "metadata": {},
     "output_type": "execute_result"
    }
   ],
   "source": [
    "data = pd.read_csv(r'used_bikes.csv')\n",
    "data.head()"
   ]
  },
  {
   "cell_type": "code",
   "execution_count": 3,
   "id": "0272e429-0087-47a0-95b2-196636b4c292",
   "metadata": {},
   "outputs": [
    {
     "name": "stdout",
     "output_type": "stream",
     "text": [
      "<class 'pandas.core.frame.DataFrame'>\n",
      "RangeIndex: 149 entries, 0 to 148\n",
      "Data columns (total 8 columns):\n",
      " #   Column      Non-Null Count  Dtype  \n",
      "---  ------      --------------  -----  \n",
      " 0   bike_name   149 non-null    object \n",
      " 1   price       149 non-null    float64\n",
      " 2   city        149 non-null    object \n",
      " 3   kms_driven  149 non-null    float64\n",
      " 4   owner       149 non-null    object \n",
      " 5   age         149 non-null    float64\n",
      " 6   power       149 non-null    float64\n",
      " 7   brand       149 non-null    object \n",
      "dtypes: float64(4), object(4)\n",
      "memory usage: 9.4+ KB\n"
     ]
    }
   ],
   "source": [
    "data.info()"
   ]
  },
  {
   "cell_type": "markdown",
   "id": "c9eb2936-c9a1-489f-b323-1cc13663272f",
   "metadata": {},
   "source": [
    "### **2. Change the datatypes of the column and check the memory usage before and after the change in the data types.**"
   ]
  },
  {
   "cell_type": "markdown",
   "id": "7989efbf-460d-48f2-ab0f-933ca10a128b",
   "metadata": {},
   "source": [
    "#### **Check Memory Usage : Before...**"
   ]
  },
  {
   "cell_type": "code",
   "execution_count": 4,
   "id": "d8a0287e-a292-48ff-88b9-b1f767de4545",
   "metadata": {},
   "outputs": [
    {
     "data": {
      "text/plain": [
       "45929"
      ]
     },
     "execution_count": 4,
     "metadata": {},
     "output_type": "execute_result"
    }
   ],
   "source": [
    "# memory usage of each column...\n",
    "memory_before = data.memory_usage(index=False, deep=True).sum()\n",
    "memory_before"
   ]
  },
  {
   "cell_type": "markdown",
   "id": "03a9cde9-1801-4168-a453-0e6342d2d423",
   "metadata": {},
   "source": [
    "**Some possible way to change the Datatype to reduce space...**\n",
    "\n",
    "**1. By Changing 'Age' column, float64 to int8.**\n",
    "\n",
    "**2. By changing 'Owner' column, object to int32. using Lebel Encoding**\n",
    "\n",
    "**3. By changing 'Power' & 'Price' columns, float64 to int32, because there are no decimal value.**\n",
    "\n",
    "**4. By removing Brand name from 'Bike_Name' column, as we have in 'Brand' column name too.**\n",
    "\n",
    "**5. By Changing the format of 'City', from full name to 3 letter code word. Ex.: Ahmedabad => ADI.  If Required**"
   ]
  },
  {
   "cell_type": "code",
   "execution_count": 5,
   "id": "b5e67670-aa29-48e8-a170-bde4eade9085",
   "metadata": {},
   "outputs": [
    {
     "name": "stdout",
     "output_type": "stream",
     "text": [
      "Max age : 16.0\n",
      "Max power : 1299.0\n",
      "Max price : 1350000.0\n",
      "Max kms_driven : 357000.0\n"
     ]
    }
   ],
   "source": [
    "# Check range, max values...\n",
    "print(\"Max age :\", max(data[\"age\"]))\n",
    "print(\"Max power :\", max(data['power']))\n",
    "print(\"Max price :\", max(data['price']))\n",
    "print(\"Max kms_driven :\", max(data['kms_driven']))"
   ]
  },
  {
   "cell_type": "code",
   "execution_count": 6,
   "id": "73ad3fb6-184c-412c-96b3-46def12948c3",
   "metadata": {},
   "outputs": [],
   "source": [
    "# 1. By Changing 'Age' column, float64 to int8...\n",
    "data['age'] = data['age'].astype(np.int8)"
   ]
  },
  {
   "cell_type": "code",
   "execution_count": 7,
   "id": "936eea58-0be7-4647-b2a5-5f8d34496c44",
   "metadata": {},
   "outputs": [
    {
     "data": {
      "text/plain": [
       "3"
      ]
     },
     "execution_count": 7,
     "metadata": {},
     "output_type": "execute_result"
    }
   ],
   "source": [
    "# 2. By changing 'Owner' column, object to int32, using Lebel Encoding...\n",
    "data['owner'].nunique() # there are 3 labels..."
   ]
  },
  {
   "cell_type": "code",
   "execution_count": 8,
   "id": "1d42e76c-27c1-432f-a992-4b43effc0156",
   "metadata": {},
   "outputs": [],
   "source": [
    "# So, we can apply, lebel encoding...\n",
    "label_encoder = preprocessing.LabelEncoder()  # Object...\n",
    "\n",
    "data['owner'] = label_encoder.fit_transform(data['owner'])"
   ]
  },
  {
   "cell_type": "code",
   "execution_count": 9,
   "id": "b77bd357-b4cd-4876-82be-17cbb376b8be",
   "metadata": {},
   "outputs": [],
   "source": [
    "# 3. By changing 'Power' & 'Price' columns, float64 to int32, because there are no decimal value...\n",
    "\n",
    "data['power'] = data['power'].astype(np.int16)\n",
    "data['price'] = data['price'].astype(int)"
   ]
  },
  {
   "cell_type": "code",
   "execution_count": 10,
   "id": "4d27b321-0144-48f5-82cb-265f4b79db93",
   "metadata": {},
   "outputs": [],
   "source": [
    "# 4. By removing Brand name from 'Bike_Name' column, as we have in 'Brand' column name too...\n",
    "\n",
    "for i in range(len(data['brand'])):\n",
    "    data['bike_name'][i] = data['bike_name'][i].replace(data['brand'][i], \"\").strip()"
   ]
  },
  {
   "cell_type": "code",
   "execution_count": 11,
   "id": "3b190291-8bf0-4eb2-9199-5f693cc495c3",
   "metadata": {},
   "outputs": [],
   "source": [
    "# Altered DataFrame...\n",
    "data_new = data[['brand', 'bike_name', 'price', 'city',\t'kms_driven', 'owner', 'age', 'power']]"
   ]
  },
  {
   "cell_type": "code",
   "execution_count": 12,
   "id": "1879f36d-cc65-4a29-9c1d-0ee71095452d",
   "metadata": {},
   "outputs": [
    {
     "data": {
      "text/html": [
       "<div>\n",
       "<style scoped>\n",
       "    .dataframe tbody tr th:only-of-type {\n",
       "        vertical-align: middle;\n",
       "    }\n",
       "\n",
       "    .dataframe tbody tr th {\n",
       "        vertical-align: top;\n",
       "    }\n",
       "\n",
       "    .dataframe thead th {\n",
       "        text-align: right;\n",
       "    }\n",
       "</style>\n",
       "<table border=\"1\" class=\"dataframe\">\n",
       "  <thead>\n",
       "    <tr style=\"text-align: right;\">\n",
       "      <th></th>\n",
       "      <th>brand</th>\n",
       "      <th>bike_name</th>\n",
       "      <th>price</th>\n",
       "      <th>city</th>\n",
       "      <th>kms_driven</th>\n",
       "      <th>owner</th>\n",
       "      <th>age</th>\n",
       "      <th>power</th>\n",
       "    </tr>\n",
       "  </thead>\n",
       "  <tbody>\n",
       "    <tr>\n",
       "      <th>138</th>\n",
       "      <td>Bajaj</td>\n",
       "      <td>Pulsar 220cc</td>\n",
       "      <td>55000</td>\n",
       "      <td>Bangalore</td>\n",
       "      <td>32734.0</td>\n",
       "      <td>0</td>\n",
       "      <td>6</td>\n",
       "      <td>220</td>\n",
       "    </tr>\n",
       "    <tr>\n",
       "      <th>139</th>\n",
       "      <td>Royal Enfield</td>\n",
       "      <td>Himalayan 410cc Fi ABS</td>\n",
       "      <td>173300</td>\n",
       "      <td>Vadodara</td>\n",
       "      <td>14000.0</td>\n",
       "      <td>0</td>\n",
       "      <td>2</td>\n",
       "      <td>410</td>\n",
       "    </tr>\n",
       "    <tr>\n",
       "      <th>29</th>\n",
       "      <td>Honda</td>\n",
       "      <td>X-Blade 160CC ABS</td>\n",
       "      <td>81200</td>\n",
       "      <td>Mettur</td>\n",
       "      <td>9100.0</td>\n",
       "      <td>0</td>\n",
       "      <td>2</td>\n",
       "      <td>160</td>\n",
       "    </tr>\n",
       "    <tr>\n",
       "      <th>87</th>\n",
       "      <td>Bajaj</td>\n",
       "      <td>Pulsar 220F</td>\n",
       "      <td>40000</td>\n",
       "      <td>Mumbai</td>\n",
       "      <td>27000.0</td>\n",
       "      <td>0</td>\n",
       "      <td>7</td>\n",
       "      <td>220</td>\n",
       "    </tr>\n",
       "    <tr>\n",
       "      <th>53</th>\n",
       "      <td>Honda</td>\n",
       "      <td>CB Shine 125cc</td>\n",
       "      <td>21900</td>\n",
       "      <td>Gorakhpur</td>\n",
       "      <td>30000.0</td>\n",
       "      <td>1</td>\n",
       "      <td>7</td>\n",
       "      <td>125</td>\n",
       "    </tr>\n",
       "    <tr>\n",
       "      <th>91</th>\n",
       "      <td>Bajaj</td>\n",
       "      <td>Pulsar NS200</td>\n",
       "      <td>75000</td>\n",
       "      <td>Bangalore</td>\n",
       "      <td>11575.0</td>\n",
       "      <td>0</td>\n",
       "      <td>4</td>\n",
       "      <td>200</td>\n",
       "    </tr>\n",
       "    <tr>\n",
       "      <th>80</th>\n",
       "      <td>Yamaha</td>\n",
       "      <td>YZF-R15 2.0 150cc</td>\n",
       "      <td>82000</td>\n",
       "      <td>Mumbai</td>\n",
       "      <td>4300.0</td>\n",
       "      <td>1</td>\n",
       "      <td>3</td>\n",
       "      <td>150</td>\n",
       "    </tr>\n",
       "    <tr>\n",
       "      <th>24</th>\n",
       "      <td>Yamaha</td>\n",
       "      <td>FZ V 2.0 150cc</td>\n",
       "      <td>45000</td>\n",
       "      <td>Delhi</td>\n",
       "      <td>23000.0</td>\n",
       "      <td>0</td>\n",
       "      <td>6</td>\n",
       "      <td>150</td>\n",
       "    </tr>\n",
       "  </tbody>\n",
       "</table>\n",
       "</div>"
      ],
      "text/plain": [
       "             brand               bike_name   price       city  kms_driven  \\\n",
       "138          Bajaj            Pulsar 220cc   55000  Bangalore     32734.0   \n",
       "139  Royal Enfield  Himalayan 410cc Fi ABS  173300   Vadodara     14000.0   \n",
       "29           Honda       X-Blade 160CC ABS   81200     Mettur      9100.0   \n",
       "87           Bajaj             Pulsar 220F   40000     Mumbai     27000.0   \n",
       "53           Honda          CB Shine 125cc   21900  Gorakhpur     30000.0   \n",
       "91           Bajaj            Pulsar NS200   75000  Bangalore     11575.0   \n",
       "80          Yamaha       YZF-R15 2.0 150cc   82000     Mumbai      4300.0   \n",
       "24          Yamaha          FZ V 2.0 150cc   45000      Delhi     23000.0   \n",
       "\n",
       "     owner  age  power  \n",
       "138      0    6    220  \n",
       "139      0    2    410  \n",
       "29       0    2    160  \n",
       "87       0    7    220  \n",
       "53       1    7    125  \n",
       "91       0    4    200  \n",
       "80       1    3    150  \n",
       "24       0    6    150  "
      ]
     },
     "execution_count": 12,
     "metadata": {},
     "output_type": "execute_result"
    }
   ],
   "source": [
    "data_new.sample(8)"
   ]
  },
  {
   "cell_type": "code",
   "execution_count": 13,
   "id": "687abb62-c54b-4d1b-ad28-00e78e3117ec",
   "metadata": {},
   "outputs": [
    {
     "name": "stdout",
     "output_type": "stream",
     "text": [
      "<class 'pandas.core.frame.DataFrame'>\n",
      "RangeIndex: 149 entries, 0 to 148\n",
      "Data columns (total 8 columns):\n",
      " #   Column      Non-Null Count  Dtype  \n",
      "---  ------      --------------  -----  \n",
      " 0   brand       149 non-null    object \n",
      " 1   bike_name   149 non-null    object \n",
      " 2   price       149 non-null    int32  \n",
      " 3   city        149 non-null    object \n",
      " 4   kms_driven  149 non-null    float64\n",
      " 5   owner       149 non-null    int32  \n",
      " 6   age         149 non-null    int8   \n",
      " 7   power       149 non-null    int16  \n",
      "dtypes: float64(1), int16(1), int32(2), int8(1), object(3)\n",
      "memory usage: 6.4+ KB\n"
     ]
    }
   ],
   "source": [
    "data_new.info()"
   ]
  },
  {
   "cell_type": "code",
   "execution_count": 14,
   "id": "6823d3e6-b0bf-4b9c-9636-fc6890da5cca",
   "metadata": {},
   "outputs": [
    {
     "data": {
      "text/plain": [
       "32663"
      ]
     },
     "execution_count": 14,
     "metadata": {},
     "output_type": "execute_result"
    }
   ],
   "source": [
    "# memory usage by final data...\n",
    "memory_after = data_new.memory_usage(index=False, deep=True).sum()\n",
    "memory_after"
   ]
  },
  {
   "cell_type": "code",
   "execution_count": 15,
   "id": "e9e8fc2b-269c-4582-a1ab-4b6b370008c3",
   "metadata": {},
   "outputs": [
    {
     "name": "stdout",
     "output_type": "stream",
     "text": [
      "Total Reduced Memory :  13266 Bytes\n"
     ]
    }
   ],
   "source": [
    "# Memory Reduced of data...\n",
    "print(\"Total Reduced Memory : \", abs(memory_before-memory_after) , 'Bytes')"
   ]
  },
  {
   "cell_type": "code",
   "execution_count": 16,
   "id": "68d3b4e3-a3d9-4368-b673-2f8287e9b2e6",
   "metadata": {},
   "outputs": [
    {
     "data": {
      "text/plain": [
       "'# Done...'"
      ]
     },
     "execution_count": 16,
     "metadata": {},
     "output_type": "execute_result"
    }
   ],
   "source": [
    "'# Done...'"
   ]
  },
  {
   "cell_type": "code",
   "execution_count": 17,
   "id": "a39d7163-4328-4450-93a8-dc35154aa74a",
   "metadata": {},
   "outputs": [],
   "source": [
    "data_new.reset_index(drop=True, inplace=True)"
   ]
  },
  {
   "cell_type": "code",
   "execution_count": 18,
   "id": "42691e79-9e0c-4fa3-89b3-fa597e673cf6",
   "metadata": {},
   "outputs": [
    {
     "data": {
      "text/html": [
       "<div>\n",
       "<style scoped>\n",
       "    .dataframe tbody tr th:only-of-type {\n",
       "        vertical-align: middle;\n",
       "    }\n",
       "\n",
       "    .dataframe tbody tr th {\n",
       "        vertical-align: top;\n",
       "    }\n",
       "\n",
       "    .dataframe thead th {\n",
       "        text-align: right;\n",
       "    }\n",
       "</style>\n",
       "<table border=\"1\" class=\"dataframe\">\n",
       "  <thead>\n",
       "    <tr style=\"text-align: right;\">\n",
       "      <th></th>\n",
       "      <th>brand</th>\n",
       "      <th>bike_name</th>\n",
       "      <th>price</th>\n",
       "      <th>city</th>\n",
       "      <th>kms_driven</th>\n",
       "      <th>owner</th>\n",
       "      <th>age</th>\n",
       "      <th>power</th>\n",
       "    </tr>\n",
       "  </thead>\n",
       "  <tbody>\n",
       "    <tr>\n",
       "      <th>0</th>\n",
       "      <td>TVS</td>\n",
       "      <td>Star City Plus Dual Tone 110cc</td>\n",
       "      <td>35000</td>\n",
       "      <td>Ahmedabad</td>\n",
       "      <td>17654.0</td>\n",
       "      <td>0</td>\n",
       "      <td>3</td>\n",
       "      <td>110</td>\n",
       "    </tr>\n",
       "    <tr>\n",
       "      <th>1</th>\n",
       "      <td>Royal Enfield</td>\n",
       "      <td>Classic 350cc</td>\n",
       "      <td>119900</td>\n",
       "      <td>Delhi</td>\n",
       "      <td>11000.0</td>\n",
       "      <td>0</td>\n",
       "      <td>4</td>\n",
       "      <td>350</td>\n",
       "    </tr>\n",
       "    <tr>\n",
       "      <th>2</th>\n",
       "      <td>Triumph</td>\n",
       "      <td>Daytona 675R</td>\n",
       "      <td>600000</td>\n",
       "      <td>Delhi</td>\n",
       "      <td>110.0</td>\n",
       "      <td>0</td>\n",
       "      <td>8</td>\n",
       "      <td>675</td>\n",
       "    </tr>\n",
       "    <tr>\n",
       "      <th>3</th>\n",
       "      <td>TVS</td>\n",
       "      <td>Apache RTR 180cc</td>\n",
       "      <td>65000</td>\n",
       "      <td>Bangalore</td>\n",
       "      <td>16329.0</td>\n",
       "      <td>0</td>\n",
       "      <td>4</td>\n",
       "      <td>180</td>\n",
       "    </tr>\n",
       "    <tr>\n",
       "      <th>4</th>\n",
       "      <td>Yamaha</td>\n",
       "      <td>FZ S V 2.0 150cc-Ltd. Edition</td>\n",
       "      <td>80000</td>\n",
       "      <td>Bangalore</td>\n",
       "      <td>10000.0</td>\n",
       "      <td>0</td>\n",
       "      <td>3</td>\n",
       "      <td>150</td>\n",
       "    </tr>\n",
       "  </tbody>\n",
       "</table>\n",
       "</div>"
      ],
      "text/plain": [
       "           brand                       bike_name   price       city  \\\n",
       "0            TVS  Star City Plus Dual Tone 110cc   35000  Ahmedabad   \n",
       "1  Royal Enfield                   Classic 350cc  119900      Delhi   \n",
       "2        Triumph                    Daytona 675R  600000      Delhi   \n",
       "3            TVS                Apache RTR 180cc   65000  Bangalore   \n",
       "4         Yamaha   FZ S V 2.0 150cc-Ltd. Edition   80000  Bangalore   \n",
       "\n",
       "   kms_driven  owner  age  power  \n",
       "0     17654.0      0    3    110  \n",
       "1     11000.0      0    4    350  \n",
       "2       110.0      0    8    675  \n",
       "3     16329.0      0    4    180  \n",
       "4     10000.0      0    3    150  "
      ]
     },
     "execution_count": 18,
     "metadata": {},
     "output_type": "execute_result"
    }
   ],
   "source": [
    "data_new.head()"
   ]
  },
  {
   "cell_type": "code",
   "execution_count": 19,
   "id": "d4ba6c4b-e0f9-497d-9732-67b84f793f1f",
   "metadata": {},
   "outputs": [
    {
     "data": {
      "text/plain": [
       "15"
      ]
     },
     "execution_count": 19,
     "metadata": {},
     "output_type": "execute_result"
    }
   ],
   "source": [
    "m = 0\n",
    "for i in data['brand']:\n",
    "    if len(i) > m:\n",
    "        m = len(i)\n",
    "        \n",
    "m"
   ]
  },
  {
   "cell_type": "markdown",
   "id": "81b4317d-026b-4f3e-a9dc-40ea06219567",
   "metadata": {},
   "source": [
    "### **3. Dump the data into the mysql database.**"
   ]
  },
  {
   "cell_type": "code",
   "execution_count": 26,
   "id": "bcd04e8e-dcd2-4578-928a-7e3f0464300a",
   "metadata": {},
   "outputs": [],
   "source": [
    "# Note : After connecting to MySQL, we created and Database and now we are using it...\n",
    "\n",
    "# sql connect...\n",
    "mydb = mysql.connector.connect(\n",
    "    host=\"localhost\",\n",
    "    user=\"root\",\n",
    "    password=\"*********\",  # Add your password...\n",
    "    database=\"neenopal\"\n",
    ")\n",
    "\n",
    "cursor = mydb.cursor()"
   ]
  },
  {
   "cell_type": "code",
   "execution_count": 23,
   "id": "3d193544-0d2e-4665-8a2e-9173b204a8ac",
   "metadata": {},
   "outputs": [],
   "source": [
    "# Create Database neenopal...\n",
    "cursor.execute(\"CREATE DATABASE neenopal\")  # Don't need to run again..."
   ]
  },
  {
   "cell_type": "code",
   "execution_count": 27,
   "id": "e5df6726-4e62-4fe4-9f95-c98fc94a14fa",
   "metadata": {},
   "outputs": [],
   "source": [
    "# Create Table used_bikes...\n",
    "cursor.execute(\"create table used_bikes(brand varchar(20),\"\n",
    "               \"bike_name varchar(50),\"\n",
    "               \"price float8,\"\n",
    "               \"city varchar(20),\"\n",
    "               \"kms_driven float8,\"\n",
    "               \"owner varchar(20),\"\n",
    "               \"age int,\"\n",
    "               \"power int)\")"
   ]
  },
  {
   "cell_type": "code",
   "execution_count": 28,
   "id": "9fdf9d35-1334-402a-9a15-f14ff557103e",
   "metadata": {},
   "outputs": [],
   "source": [
    "table_name = 'used_bikes'\n",
    "column_name = 'brand'\n",
    "\n",
    "\n",
    "cursor.execute(f\"SHOW INDEX FROM {table_name} WHERE Key_name='idx_{column_name}'\")\n",
    "index_exists = cursor.fetchall()\n",
    "\n",
    "# drop index...\n",
    "if index_exists:\n",
    "    cursor.execute(f\"DROP INDEX idx_{column_name} ON {table_name}\")\n",
    "\n",
    "# inserting data...\n",
    "data_tuples = [tuple(row) for row in data_new.values]\n",
    "\n",
    "\n",
    "sql_insert = f\"INSERT INTO {table_name}(brand, bike_name, price, city, kms_driven, owner, age, power) VALUES (%s, \" \\\n",
    "             f\"%s, %s, %s, %s, %s, %s, %s) \"\n",
    "\n",
    "\n",
    "cursor.executemany(sql_insert, data_tuples)\n",
    "\n",
    "# inserting index...\n",
    "cursor.execute(f\"CREATE INDEX idx_{column_name} ON {table_name}({column_name})\")"
   ]
  },
  {
   "cell_type": "code",
   "execution_count": 29,
   "id": "eef53ca4-b6ef-4b5a-889d-1d4a50075302",
   "metadata": {},
   "outputs": [],
   "source": [
    "# Fetch the data from the table...\n",
    "query = f\"SELECT * FROM used_bikes\"\n",
    "result_df = pd.read_sql_query(query, mydb)"
   ]
  },
  {
   "cell_type": "code",
   "execution_count": 30,
   "id": "aec9d254-ca56-4fde-9d3b-8be3a529c29c",
   "metadata": {},
   "outputs": [
    {
     "data": {
      "text/html": [
       "<div>\n",
       "<style scoped>\n",
       "    .dataframe tbody tr th:only-of-type {\n",
       "        vertical-align: middle;\n",
       "    }\n",
       "\n",
       "    .dataframe tbody tr th {\n",
       "        vertical-align: top;\n",
       "    }\n",
       "\n",
       "    .dataframe thead th {\n",
       "        text-align: right;\n",
       "    }\n",
       "</style>\n",
       "<table border=\"1\" class=\"dataframe\">\n",
       "  <thead>\n",
       "    <tr style=\"text-align: right;\">\n",
       "      <th></th>\n",
       "      <th>brand</th>\n",
       "      <th>bike_name</th>\n",
       "      <th>price</th>\n",
       "      <th>city</th>\n",
       "      <th>kms_driven</th>\n",
       "      <th>owner</th>\n",
       "      <th>age</th>\n",
       "      <th>power</th>\n",
       "    </tr>\n",
       "  </thead>\n",
       "  <tbody>\n",
       "    <tr>\n",
       "      <th>0</th>\n",
       "      <td>TVS</td>\n",
       "      <td>Star City Plus Dual Tone 110cc</td>\n",
       "      <td>35000.0</td>\n",
       "      <td>Ahmedabad</td>\n",
       "      <td>17654.0</td>\n",
       "      <td>0</td>\n",
       "      <td>3</td>\n",
       "      <td>110</td>\n",
       "    </tr>\n",
       "    <tr>\n",
       "      <th>1</th>\n",
       "      <td>Royal Enfield</td>\n",
       "      <td>Classic 350cc</td>\n",
       "      <td>119900.0</td>\n",
       "      <td>Delhi</td>\n",
       "      <td>11000.0</td>\n",
       "      <td>0</td>\n",
       "      <td>4</td>\n",
       "      <td>350</td>\n",
       "    </tr>\n",
       "    <tr>\n",
       "      <th>2</th>\n",
       "      <td>Triumph</td>\n",
       "      <td>Daytona 675R</td>\n",
       "      <td>600000.0</td>\n",
       "      <td>Delhi</td>\n",
       "      <td>110.0</td>\n",
       "      <td>0</td>\n",
       "      <td>8</td>\n",
       "      <td>675</td>\n",
       "    </tr>\n",
       "    <tr>\n",
       "      <th>3</th>\n",
       "      <td>TVS</td>\n",
       "      <td>Apache RTR 180cc</td>\n",
       "      <td>65000.0</td>\n",
       "      <td>Bangalore</td>\n",
       "      <td>16329.0</td>\n",
       "      <td>0</td>\n",
       "      <td>4</td>\n",
       "      <td>180</td>\n",
       "    </tr>\n",
       "    <tr>\n",
       "      <th>4</th>\n",
       "      <td>Yamaha</td>\n",
       "      <td>FZ S V 2.0 150cc-Ltd. Edition</td>\n",
       "      <td>80000.0</td>\n",
       "      <td>Bangalore</td>\n",
       "      <td>10000.0</td>\n",
       "      <td>0</td>\n",
       "      <td>3</td>\n",
       "      <td>150</td>\n",
       "    </tr>\n",
       "  </tbody>\n",
       "</table>\n",
       "</div>"
      ],
      "text/plain": [
       "           brand                       bike_name     price       city  \\\n",
       "0            TVS  Star City Plus Dual Tone 110cc   35000.0  Ahmedabad   \n",
       "1  Royal Enfield                   Classic 350cc  119900.0      Delhi   \n",
       "2        Triumph                    Daytona 675R  600000.0      Delhi   \n",
       "3            TVS                Apache RTR 180cc   65000.0  Bangalore   \n",
       "4         Yamaha   FZ S V 2.0 150cc-Ltd. Edition   80000.0  Bangalore   \n",
       "\n",
       "   kms_driven owner  age  power  \n",
       "0     17654.0     0    3    110  \n",
       "1     11000.0     0    4    350  \n",
       "2       110.0     0    8    675  \n",
       "3     16329.0     0    4    180  \n",
       "4     10000.0     0    3    150  "
      ]
     },
     "execution_count": 30,
     "metadata": {},
     "output_type": "execute_result"
    }
   ],
   "source": [
    "result_df.head()"
   ]
  },
  {
   "cell_type": "code",
   "execution_count": 31,
   "id": "866a1025-c51a-491d-b71e-415014a83c85",
   "metadata": {},
   "outputs": [],
   "source": [
    "cursor.close()\n",
    "mydb.close()"
   ]
  },
  {
   "cell_type": "code",
   "execution_count": 32,
   "id": "fb5a7c01-c20e-4cb0-a2d2-ee5897ab502f",
   "metadata": {},
   "outputs": [
    {
     "data": {
      "text/plain": [
       "'# Done ...'"
      ]
     },
     "execution_count": 32,
     "metadata": {},
     "output_type": "execute_result"
    }
   ],
   "source": [
    "'# Done ...'"
   ]
  }
 ],
 "metadata": {
  "kernelspec": {
   "display_name": "Python 3 (ipykernel)",
   "language": "python",
   "name": "python3"
  },
  "language_info": {
   "codemirror_mode": {
    "name": "ipython",
    "version": 3
   },
   "file_extension": ".py",
   "mimetype": "text/x-python",
   "name": "python",
   "nbconvert_exporter": "python",
   "pygments_lexer": "ipython3",
   "version": "3.10.9"
  }
 },
 "nbformat": 4,
 "nbformat_minor": 5
}
